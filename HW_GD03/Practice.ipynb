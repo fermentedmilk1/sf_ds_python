{
 "cells": [
  {
   "cell_type": "markdown",
   "metadata": {},
   "source": [
    "PRACTICE. Сбор и обработка данных"
   ]
  },
  {
   "cell_type": "markdown",
   "metadata": {},
   "source": [
    "Важно иметь в виду: все задания необходимо выполнять с использованием данных пользователей, зарегистрировавшихся в 2018 году."
   ]
  },
  {
   "cell_type": "code",
   "execution_count": 1,
   "metadata": {},
   "outputs": [],
   "source": [
    "import pandas as pd\n",
    "import numpy as np\n",
    "\n",
    "purchase_df = pd.read_csv(r'C:\\Users\\Yana\\Documents\\purchase.csv', sep=',')\n",
    "events_df = pd.read_csv(r'C:\\Users\\Yana\\Documents\\7_4_Events.csv', sep=',')"
   ]
  },
  {
   "cell_type": "code",
   "execution_count": 2,
   "metadata": {},
   "outputs": [
    {
     "name": "stdout",
     "output_type": "stream",
     "text": [
      "<class 'pandas.core.frame.DataFrame'>\n",
      "RangeIndex: 5956 entries, 0 to 5955\n",
      "Data columns (total 4 columns):\n",
      " #   Column          Non-Null Count  Dtype \n",
      "---  ------          --------------  ----- \n",
      " 0   id              5956 non-null   int64 \n",
      " 1   user_id         5956 non-null   int64 \n",
      " 2   event_datetime  5956 non-null   object\n",
      " 3   amount          5956 non-null   int64 \n",
      "dtypes: int64(3), object(1)\n",
      "memory usage: 186.2+ KB\n"
     ]
    }
   ],
   "source": [
    "purchase_df.info()\n",
    "purchase_df['event_datetime'] = pd.to_datetime(purchase_df['event_datetime'])"
   ]
  },
  {
   "cell_type": "code",
   "execution_count": 3,
   "metadata": {},
   "outputs": [
    {
     "data": {
      "text/plain": [
       "medium    17408\n",
       "easy       9011\n",
       "hard       4667\n",
       "Name: selected_level, dtype: int64"
      ]
     },
     "execution_count": 3,
     "metadata": {},
     "output_type": "execute_result"
    }
   ],
   "source": [
    "events_df['selected_level'].value_counts()"
   ]
  },
  {
   "cell_type": "code",
   "execution_count": 4,
   "metadata": {},
   "outputs": [],
   "source": [
    "#events_df.info()\n",
    "# events_df['start_time'] = pd.to_datetime(events_df['start_time']) --> ERROR, have to separate date on T"
   ]
  },
  {
   "cell_type": "code",
   "execution_count": 5,
   "metadata": {},
   "outputs": [
    {
     "data": {
      "text/plain": [
       "['2016-05-11', '23:40:55']"
      ]
     },
     "execution_count": 5,
     "metadata": {},
     "output_type": "execute_result"
    }
   ],
   "source": [
    "s = '2016-05-11T23:40:55'\n",
    "lst = s.split('T')\n",
    "lst"
   ]
  },
  {
   "cell_type": "code",
   "execution_count": 6,
   "metadata": {},
   "outputs": [
    {
     "data": {
      "text/html": [
       "<div>\n",
       "<style scoped>\n",
       "    .dataframe tbody tr th:only-of-type {\n",
       "        vertical-align: middle;\n",
       "    }\n",
       "\n",
       "    .dataframe tbody tr th {\n",
       "        vertical-align: top;\n",
       "    }\n",
       "\n",
       "    .dataframe thead th {\n",
       "        text-align: right;\n",
       "    }\n",
       "</style>\n",
       "<table border=\"1\" class=\"dataframe\">\n",
       "  <thead>\n",
       "    <tr style=\"text-align: right;\">\n",
       "      <th></th>\n",
       "      <th>id</th>\n",
       "      <th>event_type</th>\n",
       "      <th>selected_level</th>\n",
       "      <th>start_time</th>\n",
       "      <th>tutorial_id</th>\n",
       "      <th>user_id</th>\n",
       "    </tr>\n",
       "  </thead>\n",
       "  <tbody>\n",
       "    <tr>\n",
       "      <th>0</th>\n",
       "      <td>28903</td>\n",
       "      <td>registration</td>\n",
       "      <td>NaN</td>\n",
       "      <td>2016-05-11T23:40:55</td>\n",
       "      <td>NaN</td>\n",
       "      <td>12583</td>\n",
       "    </tr>\n",
       "    <tr>\n",
       "      <th>1</th>\n",
       "      <td>28904</td>\n",
       "      <td>registration</td>\n",
       "      <td>NaN</td>\n",
       "      <td>2016-05-11T23:49:58</td>\n",
       "      <td>NaN</td>\n",
       "      <td>12584</td>\n",
       "    </tr>\n",
       "    <tr>\n",
       "      <th>2</th>\n",
       "      <td>28905</td>\n",
       "      <td>registration</td>\n",
       "      <td>NaN</td>\n",
       "      <td>2016-05-12T00:53:07</td>\n",
       "      <td>NaN</td>\n",
       "      <td>12585</td>\n",
       "    </tr>\n",
       "    <tr>\n",
       "      <th>3</th>\n",
       "      <td>28906</td>\n",
       "      <td>tutorial_start</td>\n",
       "      <td>NaN</td>\n",
       "      <td>2016-05-12T01:32:20</td>\n",
       "      <td>17562.0</td>\n",
       "      <td>12585</td>\n",
       "    </tr>\n",
       "    <tr>\n",
       "      <th>4</th>\n",
       "      <td>28907</td>\n",
       "      <td>tutorial_finish</td>\n",
       "      <td>NaN</td>\n",
       "      <td>2016-05-12T01:34:53</td>\n",
       "      <td>17562.0</td>\n",
       "      <td>12585</td>\n",
       "    </tr>\n",
       "    <tr>\n",
       "      <th>5</th>\n",
       "      <td>28908</td>\n",
       "      <td>tutorial_start</td>\n",
       "      <td>NaN</td>\n",
       "      <td>2016-05-12T02:11:29</td>\n",
       "      <td>17563.0</td>\n",
       "      <td>12584</td>\n",
       "    </tr>\n",
       "    <tr>\n",
       "      <th>6</th>\n",
       "      <td>28909</td>\n",
       "      <td>tutorial_finish</td>\n",
       "      <td>NaN</td>\n",
       "      <td>2016-05-12T02:14:14</td>\n",
       "      <td>17563.0</td>\n",
       "      <td>12584</td>\n",
       "    </tr>\n",
       "    <tr>\n",
       "      <th>7</th>\n",
       "      <td>28910</td>\n",
       "      <td>level_choice</td>\n",
       "      <td>hard</td>\n",
       "      <td>2016-05-12T05:30:25</td>\n",
       "      <td>NaN</td>\n",
       "      <td>12584</td>\n",
       "    </tr>\n",
       "    <tr>\n",
       "      <th>8</th>\n",
       "      <td>28911</td>\n",
       "      <td>pack_choice</td>\n",
       "      <td>NaN</td>\n",
       "      <td>2016-05-12T05:38:24</td>\n",
       "      <td>NaN</td>\n",
       "      <td>12584</td>\n",
       "    </tr>\n",
       "    <tr>\n",
       "      <th>9</th>\n",
       "      <td>28912</td>\n",
       "      <td>tutorial_start</td>\n",
       "      <td>NaN</td>\n",
       "      <td>2016-05-12T07:19:01</td>\n",
       "      <td>17564.0</td>\n",
       "      <td>12583</td>\n",
       "    </tr>\n",
       "  </tbody>\n",
       "</table>\n",
       "</div>"
      ],
      "text/plain": [
       "      id       event_type selected_level           start_time  tutorial_id  \\\n",
       "0  28903     registration            NaN  2016-05-11T23:40:55          NaN   \n",
       "1  28904     registration            NaN  2016-05-11T23:49:58          NaN   \n",
       "2  28905     registration            NaN  2016-05-12T00:53:07          NaN   \n",
       "3  28906   tutorial_start            NaN  2016-05-12T01:32:20      17562.0   \n",
       "4  28907  tutorial_finish            NaN  2016-05-12T01:34:53      17562.0   \n",
       "5  28908   tutorial_start            NaN  2016-05-12T02:11:29      17563.0   \n",
       "6  28909  tutorial_finish            NaN  2016-05-12T02:14:14      17563.0   \n",
       "7  28910     level_choice           hard  2016-05-12T05:30:25          NaN   \n",
       "8  28911      pack_choice            NaN  2016-05-12T05:38:24          NaN   \n",
       "9  28912   tutorial_start            NaN  2016-05-12T07:19:01      17564.0   \n",
       "\n",
       "   user_id  \n",
       "0    12583  \n",
       "1    12584  \n",
       "2    12585  \n",
       "3    12585  \n",
       "4    12585  \n",
       "5    12584  \n",
       "6    12584  \n",
       "7    12584  \n",
       "8    12584  \n",
       "9    12583  "
      ]
     },
     "execution_count": 6,
     "metadata": {},
     "output_type": "execute_result"
    }
   ],
   "source": [
    "# Для начала выведем первые 10 строк датафрейма events_df с помощью команды head(), чтобы ознакомиться с данными.\n",
    "events_df.head(10)"
   ]
  },
  {
   "cell_type": "code",
   "execution_count": 7,
   "metadata": {},
   "outputs": [
    {
     "name": "stdout",
     "output_type": "stream",
     "text": [
      "<class 'pandas.core.frame.DataFrame'>\n",
      "RangeIndex: 252334 entries, 0 to 252333\n",
      "Data columns (total 6 columns):\n",
      " #   Column          Non-Null Count   Dtype  \n",
      "---  ------          --------------   -----  \n",
      " 0   id              252334 non-null  int64  \n",
      " 1   event_type      252334 non-null  object \n",
      " 2   selected_level  31086 non-null   object \n",
      " 3   start_time      252334 non-null  object \n",
      " 4   tutorial_id     125103 non-null  float64\n",
      " 5   user_id         252334 non-null  int64  \n",
      "dtypes: float64(1), int64(2), object(3)\n",
      "memory usage: 11.6+ MB\n"
     ]
    }
   ],
   "source": [
    "# Мы, конечно, можем уже что-то сказать по поводу данных, посмотрев на первые 10 строк, \n",
    "# но лучше использовать более точные методы анализа. \n",
    "# Воспользуемся методом info(), который позволяет получить общую информацию о датафрейме, \n",
    "# для того чтобы оценить, какие данные содержатся в датафрейме events_df.\n",
    "events_df.info()"
   ]
  },
  {
   "cell_type": "markdown",
   "metadata": {},
   "source": [
    "Итак, мы видим, что датафрейм events_df содержит 35808 строк и шесть столбцов. При этом все строки содержат значения в столбцах id, user_id, start_time, event_type, а остальные столбцы содержат пропущенные значения (например, столбец selected_level содержит непустые значения только в 4412 строках)."
   ]
  },
  {
   "cell_type": "markdown",
   "metadata": {},
   "source": [
    "To retrieve all the rows which startwith required string\n",
    "\n",
    "dataFrameOut = dataFrame[dataFrame['column name'].str.match('string')]\n",
    "\n",
    "To retrieve all the rows which contains required string\n",
    "\n",
    "dataFrameOut = dataFrame[dataFrame['column name'].str.contains('string')]"
   ]
  },
  {
   "cell_type": "code",
   "execution_count": 8,
   "metadata": {},
   "outputs": [],
   "source": [
    "# events_df['start_time'] = pd.to_datetime(events_df['start_time']) \n",
    "# ERROR !!!"
   ]
  },
  {
   "cell_type": "code",
   "execution_count": 9,
   "metadata": {},
   "outputs": [
    {
     "data": {
      "text/plain": [
       "(66952, 6)"
      ]
     },
     "execution_count": 9,
     "metadata": {},
     "output_type": "execute_result"
    }
   ],
   "source": [
    "# Сколько строк содержится в датафрейме events_df? 66959\n",
    "events_2018 = events_df[events_df['start_time'].str.contains('2018')].copy()\n",
    "events_2018['start_time'] = pd.to_datetime(events_2018['start_time'])\n",
    "events_2018.shape\n",
    "# events_2018.head()"
   ]
  },
  {
   "cell_type": "code",
   "execution_count": 10,
   "metadata": {},
   "outputs": [
    {
     "name": "stdout",
     "output_type": "stream",
     "text": [
      "<class 'pandas.core.frame.DataFrame'>\n",
      "Int64Index: 66952 entries, 51405 to 118356\n",
      "Data columns (total 6 columns):\n",
      " #   Column          Non-Null Count  Dtype         \n",
      "---  ------          --------------  -----         \n",
      " 0   id              66952 non-null  int64         \n",
      " 1   event_type      66952 non-null  object        \n",
      " 2   selected_level  8340 non-null   object        \n",
      " 3   start_time      66952 non-null  datetime64[ns]\n",
      " 4   tutorial_id     32950 non-null  float64       \n",
      " 5   user_id         66952 non-null  int64         \n",
      "dtypes: datetime64[ns](1), float64(1), int64(2), object(2)\n",
      "memory usage: 3.6+ MB\n"
     ]
    }
   ],
   "source": [
    "# Сколько непустых значений содержится в столбце selected_level? 66959 - 58612 = 8347 #8342\n",
    "# print(events_2018['selected_level'].isnull().sum()) 58612\n",
    "events_2018.info() #8340"
   ]
  },
  {
   "cell_type": "code",
   "execution_count": 11,
   "metadata": {},
   "outputs": [
    {
     "name": "stdout",
     "output_type": "stream",
     "text": [
      "<class 'pandas.core.frame.DataFrame'>\n",
      "Int64Index: 8340 entries, 51424 to 118353\n",
      "Data columns (total 6 columns):\n",
      " #   Column          Non-Null Count  Dtype         \n",
      "---  ------          --------------  -----         \n",
      " 0   id              8340 non-null   int64         \n",
      " 1   event_type      8340 non-null   object        \n",
      " 2   selected_level  8340 non-null   object        \n",
      " 3   start_time      8340 non-null   datetime64[ns]\n",
      " 4   tutorial_id     0 non-null      float64       \n",
      " 5   user_id         8340 non-null   int64         \n",
      "dtypes: datetime64[ns](1), float64(1), int64(2), object(2)\n",
      "memory usage: 456.1+ KB\n"
     ]
    }
   ],
   "source": [
    "# Исследуем пропуски\n",
    "# Наличие пропущенных строк обусловлено тем, что не все из параметров selected_level и tutorial_id \n",
    "# присутствуют в каждом из событий. Эти параметры заполнятся в зависимости от event_type.\n",
    "# К примеру, посмотрим на events_df, оставив в нём только такие строки, где event_type = level_choice.\n",
    "\n",
    "events_2018[events_2018['event_type'] == 'level_choice'].info()"
   ]
  },
  {
   "cell_type": "code",
   "execution_count": 12,
   "metadata": {},
   "outputs": [
    {
     "name": "stdout",
     "output_type": "stream",
     "text": [
      "<class 'pandas.core.frame.DataFrame'>\n",
      "Int64Index: 32950 entries, 51412 to 118351\n",
      "Data columns (total 6 columns):\n",
      " #   Column          Non-Null Count  Dtype         \n",
      "---  ------          --------------  -----         \n",
      " 0   id              32950 non-null  int64         \n",
      " 1   event_type      32950 non-null  object        \n",
      " 2   selected_level  0 non-null      object        \n",
      " 3   start_time      32950 non-null  datetime64[ns]\n",
      " 4   tutorial_id     32950 non-null  float64       \n",
      " 5   user_id         32950 non-null  int64         \n",
      "dtypes: datetime64[ns](1), float64(1), int64(2), object(2)\n",
      "memory usage: 1.8+ MB\n"
     ]
    }
   ],
   "source": [
    "# Как видно, этот срез датафрейма не содержит пропущенных значений в столбце selected_level,\n",
    "# но зато содержит пропуски в tutorial_id. \n",
    "# Это связано с тем, что для событий типа level_choice не предусмотрена запись параметра tutorial_id.\n",
    "# Теперь проверим аналогичные данные, но при условии, что срез будет содержать данные о \n",
    "# событиях tutorial_start и tutorial_finish.\n",
    "events_2018[events_2018['event_type'].isin(['tutorial_start','tutorial_finish'])].info()"
   ]
  },
  {
   "cell_type": "markdown",
   "metadata": {},
   "source": [
    "Столбец selected_level в таком срезе не содержит ни одного значения. Причина этого в том, что для событий, связанных с обучением, отсутствуют параметры выбора уровня сложности selected_level. А вот остальные столбцы заполнены полностью."
   ]
  },
  {
   "cell_type": "code",
   "execution_count": 13,
   "metadata": {},
   "outputs": [
    {
     "name": "stderr",
     "output_type": "stream",
     "text": [
      "C:\\Users\\Yana\\AppData\\Local\\Temp/ipykernel_10388/1180975805.py:5: FutureWarning: Treating datetime data as categorical rather than numeric in `.describe` is deprecated and will be removed in a future version of pandas. Specify `datetime_is_numeric=True` to silence this warning and adopt the future behavior now.\n",
      "  events_2018.describe(include='all')\n"
     ]
    },
    {
     "data": {
      "text/html": [
       "<div>\n",
       "<style scoped>\n",
       "    .dataframe tbody tr th:only-of-type {\n",
       "        vertical-align: middle;\n",
       "    }\n",
       "\n",
       "    .dataframe tbody tr th {\n",
       "        vertical-align: top;\n",
       "    }\n",
       "\n",
       "    .dataframe thead th {\n",
       "        text-align: right;\n",
       "    }\n",
       "</style>\n",
       "<table border=\"1\" class=\"dataframe\">\n",
       "  <thead>\n",
       "    <tr style=\"text-align: right;\">\n",
       "      <th></th>\n",
       "      <th>id</th>\n",
       "      <th>event_type</th>\n",
       "      <th>selected_level</th>\n",
       "      <th>start_time</th>\n",
       "      <th>tutorial_id</th>\n",
       "      <th>user_id</th>\n",
       "    </tr>\n",
       "  </thead>\n",
       "  <tbody>\n",
       "    <tr>\n",
       "      <th>count</th>\n",
       "      <td>66952.000000</td>\n",
       "      <td>66952</td>\n",
       "      <td>8340</td>\n",
       "      <td>66952</td>\n",
       "      <td>32950.000000</td>\n",
       "      <td>66952.000000</td>\n",
       "    </tr>\n",
       "    <tr>\n",
       "      <th>unique</th>\n",
       "      <td>NaN</td>\n",
       "      <td>5</td>\n",
       "      <td>3</td>\n",
       "      <td>66802</td>\n",
       "      <td>NaN</td>\n",
       "      <td>NaN</td>\n",
       "    </tr>\n",
       "    <tr>\n",
       "      <th>top</th>\n",
       "      <td>NaN</td>\n",
       "      <td>registration</td>\n",
       "      <td>medium</td>\n",
       "      <td>2018-03-13 09:37:43</td>\n",
       "      <td>NaN</td>\n",
       "      <td>NaN</td>\n",
       "    </tr>\n",
       "    <tr>\n",
       "      <th>freq</th>\n",
       "      <td>NaN</td>\n",
       "      <td>19926</td>\n",
       "      <td>4644</td>\n",
       "      <td>9</td>\n",
       "      <td>NaN</td>\n",
       "      <td>NaN</td>\n",
       "    </tr>\n",
       "    <tr>\n",
       "      <th>first</th>\n",
       "      <td>NaN</td>\n",
       "      <td>NaN</td>\n",
       "      <td>NaN</td>\n",
       "      <td>2018-01-01 03:48:40</td>\n",
       "      <td>NaN</td>\n",
       "      <td>NaN</td>\n",
       "    </tr>\n",
       "    <tr>\n",
       "      <th>last</th>\n",
       "      <td>NaN</td>\n",
       "      <td>NaN</td>\n",
       "      <td>NaN</td>\n",
       "      <td>2018-12-31 23:18:06</td>\n",
       "      <td>NaN</td>\n",
       "      <td>NaN</td>\n",
       "    </tr>\n",
       "    <tr>\n",
       "      <th>mean</th>\n",
       "      <td>113783.500000</td>\n",
       "      <td>NaN</td>\n",
       "      <td>NaN</td>\n",
       "      <td>NaN</td>\n",
       "      <td>40531.839332</td>\n",
       "      <td>37780.500553</td>\n",
       "    </tr>\n",
       "    <tr>\n",
       "      <th>std</th>\n",
       "      <td>19327.521948</td>\n",
       "      <td>NaN</td>\n",
       "      <td>NaN</td>\n",
       "      <td>NaN</td>\n",
       "      <td>5212.855551</td>\n",
       "      <td>5750.894235</td>\n",
       "    </tr>\n",
       "    <tr>\n",
       "      <th>min</th>\n",
       "      <td>80308.000000</td>\n",
       "      <td>NaN</td>\n",
       "      <td>NaN</td>\n",
       "      <td>NaN</td>\n",
       "      <td>31505.000000</td>\n",
       "      <td>27832.000000</td>\n",
       "    </tr>\n",
       "    <tr>\n",
       "      <th>25%</th>\n",
       "      <td>97045.750000</td>\n",
       "      <td>NaN</td>\n",
       "      <td>NaN</td>\n",
       "      <td>NaN</td>\n",
       "      <td>36008.000000</td>\n",
       "      <td>32848.750000</td>\n",
       "    </tr>\n",
       "    <tr>\n",
       "      <th>50%</th>\n",
       "      <td>113783.500000</td>\n",
       "      <td>NaN</td>\n",
       "      <td>NaN</td>\n",
       "      <td>NaN</td>\n",
       "      <td>40528.500000</td>\n",
       "      <td>37717.500000</td>\n",
       "    </tr>\n",
       "    <tr>\n",
       "      <th>75%</th>\n",
       "      <td>130521.250000</td>\n",
       "      <td>NaN</td>\n",
       "      <td>NaN</td>\n",
       "      <td>NaN</td>\n",
       "      <td>45055.750000</td>\n",
       "      <td>42732.000000</td>\n",
       "    </tr>\n",
       "    <tr>\n",
       "      <th>max</th>\n",
       "      <td>147259.000000</td>\n",
       "      <td>NaN</td>\n",
       "      <td>NaN</td>\n",
       "      <td>NaN</td>\n",
       "      <td>49552.000000</td>\n",
       "      <td>47757.000000</td>\n",
       "    </tr>\n",
       "  </tbody>\n",
       "</table>\n",
       "</div>"
      ],
      "text/plain": [
       "                   id    event_type selected_level           start_time  \\\n",
       "count    66952.000000         66952           8340                66952   \n",
       "unique            NaN             5              3                66802   \n",
       "top               NaN  registration         medium  2018-03-13 09:37:43   \n",
       "freq              NaN         19926           4644                    9   \n",
       "first             NaN           NaN            NaN  2018-01-01 03:48:40   \n",
       "last              NaN           NaN            NaN  2018-12-31 23:18:06   \n",
       "mean    113783.500000           NaN            NaN                  NaN   \n",
       "std      19327.521948           NaN            NaN                  NaN   \n",
       "min      80308.000000           NaN            NaN                  NaN   \n",
       "25%      97045.750000           NaN            NaN                  NaN   \n",
       "50%     113783.500000           NaN            NaN                  NaN   \n",
       "75%     130521.250000           NaN            NaN                  NaN   \n",
       "max     147259.000000           NaN            NaN                  NaN   \n",
       "\n",
       "         tutorial_id       user_id  \n",
       "count   32950.000000  66952.000000  \n",
       "unique           NaN           NaN  \n",
       "top              NaN           NaN  \n",
       "freq             NaN           NaN  \n",
       "first            NaN           NaN  \n",
       "last             NaN           NaN  \n",
       "mean    40531.839332  37780.500553  \n",
       "std      5212.855551   5750.894235  \n",
       "min     31505.000000  27832.000000  \n",
       "25%     36008.000000  32848.750000  \n",
       "50%     40528.500000  37717.500000  \n",
       "75%     45055.750000  42732.000000  \n",
       "max     49552.000000  47757.000000  "
      ]
     },
     "execution_count": 13,
     "metadata": {},
     "output_type": "execute_result"
    }
   ],
   "source": [
    "# Вызовем метод describe(), чтобы оценить характеристики каждого столбца. \n",
    "# По умолчанию метод describe() выдаёт характеристики только по столбцам с численными типами \n",
    "# (например, int64, float64). Мы вызовем этот метод с параметром include='all' для того,\n",
    "# чтобы отображать характеристики для всех столбцов.\n",
    "events_2018.describe(include='all')"
   ]
  },
  {
   "cell_type": "code",
   "execution_count": 14,
   "metadata": {},
   "outputs": [
    {
     "data": {
      "text/plain": [
       "array(['registration', 'tutorial_start', 'tutorial_finish',\n",
       "       'level_choice', 'pack_choice'], dtype=object)"
      ]
     },
     "execution_count": 14,
     "metadata": {},
     "output_type": "execute_result"
    }
   ],
   "source": [
    "# Давайте оценим, какие уникальные события есть в колонках event_type и selected_level.\n",
    "events_2018['event_type'].unique()"
   ]
  },
  {
   "cell_type": "code",
   "execution_count": 15,
   "metadata": {},
   "outputs": [
    {
     "data": {
      "text/plain": [
       "array([nan, 'medium', 'hard', 'easy'], dtype=object)"
      ]
     },
     "execution_count": 15,
     "metadata": {},
     "output_type": "execute_result"
    }
   ],
   "source": [
    "events_2018['selected_level'].unique()"
   ]
  },
  {
   "cell_type": "code",
   "execution_count": 16,
   "metadata": {},
   "outputs": [
    {
     "data": {
      "text/plain": [
       "74908"
      ]
     },
     "execution_count": 16,
     "metadata": {},
     "output_type": "execute_result"
    }
   ],
   "source": [
    "# Также оценим, какое количество пользователей совершали события:\n",
    "events_df['user_id'].nunique()"
   ]
  },
  {
   "cell_type": "code",
   "execution_count": 17,
   "metadata": {},
   "outputs": [
    {
     "data": {
      "text/html": [
       "<div>\n",
       "<style scoped>\n",
       "    .dataframe tbody tr th:only-of-type {\n",
       "        vertical-align: middle;\n",
       "    }\n",
       "\n",
       "    .dataframe tbody tr th {\n",
       "        vertical-align: top;\n",
       "    }\n",
       "\n",
       "    .dataframe thead th {\n",
       "        text-align: right;\n",
       "    }\n",
       "</style>\n",
       "<table border=\"1\" class=\"dataframe\">\n",
       "  <thead>\n",
       "    <tr style=\"text-align: right;\">\n",
       "      <th></th>\n",
       "      <th>id</th>\n",
       "      <th>user_id</th>\n",
       "      <th>event_datetime</th>\n",
       "      <th>amount</th>\n",
       "    </tr>\n",
       "  </thead>\n",
       "  <tbody>\n",
       "    <tr>\n",
       "      <th>0</th>\n",
       "      <td>15674</td>\n",
       "      <td>12584</td>\n",
       "      <td>2016-05-12 10:34:16</td>\n",
       "      <td>100</td>\n",
       "    </tr>\n",
       "    <tr>\n",
       "      <th>1</th>\n",
       "      <td>15675</td>\n",
       "      <td>12985</td>\n",
       "      <td>2016-05-13 08:25:56</td>\n",
       "      <td>50</td>\n",
       "    </tr>\n",
       "    <tr>\n",
       "      <th>2</th>\n",
       "      <td>15676</td>\n",
       "      <td>12828</td>\n",
       "      <td>2016-05-13 16:33:46</td>\n",
       "      <td>50</td>\n",
       "    </tr>\n",
       "    <tr>\n",
       "      <th>3</th>\n",
       "      <td>15677</td>\n",
       "      <td>12598</td>\n",
       "      <td>2016-05-14 01:09:37</td>\n",
       "      <td>150</td>\n",
       "    </tr>\n",
       "    <tr>\n",
       "      <th>4</th>\n",
       "      <td>15678</td>\n",
       "      <td>13037</td>\n",
       "      <td>2016-05-14 01:24:46</td>\n",
       "      <td>100</td>\n",
       "    </tr>\n",
       "    <tr>\n",
       "      <th>5</th>\n",
       "      <td>15679</td>\n",
       "      <td>12989</td>\n",
       "      <td>2016-05-14 02:19:20</td>\n",
       "      <td>200</td>\n",
       "    </tr>\n",
       "    <tr>\n",
       "      <th>6</th>\n",
       "      <td>15680</td>\n",
       "      <td>12684</td>\n",
       "      <td>2016-05-14 03:10:14</td>\n",
       "      <td>100</td>\n",
       "    </tr>\n",
       "    <tr>\n",
       "      <th>7</th>\n",
       "      <td>15681</td>\n",
       "      <td>12656</td>\n",
       "      <td>2016-05-14 03:42:48</td>\n",
       "      <td>100</td>\n",
       "    </tr>\n",
       "    <tr>\n",
       "      <th>8</th>\n",
       "      <td>15682</td>\n",
       "      <td>12624</td>\n",
       "      <td>2016-05-14 06:00:45</td>\n",
       "      <td>50</td>\n",
       "    </tr>\n",
       "    <tr>\n",
       "      <th>9</th>\n",
       "      <td>15683</td>\n",
       "      <td>13136</td>\n",
       "      <td>2016-05-14 07:31:03</td>\n",
       "      <td>50</td>\n",
       "    </tr>\n",
       "  </tbody>\n",
       "</table>\n",
       "</div>"
      ],
      "text/plain": [
       "      id  user_id      event_datetime  amount\n",
       "0  15674    12584 2016-05-12 10:34:16     100\n",
       "1  15675    12985 2016-05-13 08:25:56      50\n",
       "2  15676    12828 2016-05-13 16:33:46      50\n",
       "3  15677    12598 2016-05-14 01:09:37     150\n",
       "4  15678    13037 2016-05-14 01:24:46     100\n",
       "5  15679    12989 2016-05-14 02:19:20     200\n",
       "6  15680    12684 2016-05-14 03:10:14     100\n",
       "7  15681    12656 2016-05-14 03:42:48     100\n",
       "8  15682    12624 2016-05-14 06:00:45      50\n",
       "9  15683    13136 2016-05-14 07:31:03      50"
      ]
     },
     "execution_count": 17,
     "metadata": {},
     "output_type": "execute_result"
    }
   ],
   "source": [
    "# Теперь нам нужно проверить, как события, совершённые пользователями, связаны с последующими оплатами пакетов вопросов.\n",
    "# Выведем первые 10 строк датафрейма purchase_df с помощью команды head().\n",
    "purchase_df.head(10)"
   ]
  },
  {
   "cell_type": "code",
   "execution_count": 18,
   "metadata": {},
   "outputs": [
    {
     "name": "stdout",
     "output_type": "stream",
     "text": [
      "<class 'pandas.core.frame.DataFrame'>\n",
      "RangeIndex: 5956 entries, 0 to 5955\n",
      "Data columns (total 4 columns):\n",
      " #   Column          Non-Null Count  Dtype         \n",
      "---  ------          --------------  -----         \n",
      " 0   id              5956 non-null   int64         \n",
      " 1   user_id         5956 non-null   int64         \n",
      " 2   event_datetime  5956 non-null   datetime64[ns]\n",
      " 3   amount          5956 non-null   int64         \n",
      "dtypes: datetime64[ns](1), int64(3)\n",
      "memory usage: 186.2 KB\n"
     ]
    }
   ],
   "source": [
    "# Воспользуемся методом info(), который позволяет получить общую информацию о датафрейме,\n",
    "# для того чтобы оценить, какие данные содержатся в датафрейме purchase_df.\n",
    "purchase_df.info()"
   ]
  },
  {
   "cell_type": "markdown",
   "metadata": {},
   "source": [
    "Важно! Напоминаем, что все задания необходимо выполнять с использованием данных пользователей, зарегистрировавшихся в 2018 году."
   ]
  },
  {
   "cell_type": "code",
   "execution_count": 19,
   "metadata": {},
   "outputs": [
    {
     "name": "stdout",
     "output_type": "stream",
     "text": [
      "<class 'pandas.core.frame.DataFrame'>\n",
      "Int64Index: 1602 entries, 1164 to 2765\n",
      "Data columns (total 5 columns):\n",
      " #   Column          Non-Null Count  Dtype         \n",
      "---  ------          --------------  -----         \n",
      " 0   id              1602 non-null   int64         \n",
      " 1   user_id         1602 non-null   int64         \n",
      " 2   event_datetime  1602 non-null   datetime64[ns]\n",
      " 3   amount          1602 non-null   int64         \n",
      " 4   year            1602 non-null   int64         \n",
      "dtypes: datetime64[ns](1), int64(4)\n",
      "memory usage: 75.1 KB\n"
     ]
    }
   ],
   "source": [
    "# Сколько строк содержится в датафрейме purchase_df?\n",
    "purchase_df['year'] = purchase_df['event_datetime'].dt.year\n",
    "purchase_2018 = purchase_df[purchase_df['year'] == 2018].copy()\n",
    "purchase_2018.info()"
   ]
  },
  {
   "cell_type": "code",
   "execution_count": 20,
   "metadata": {},
   "outputs": [
    {
     "data": {
      "text/html": [
       "<div>\n",
       "<style scoped>\n",
       "    .dataframe tbody tr th:only-of-type {\n",
       "        vertical-align: middle;\n",
       "    }\n",
       "\n",
       "    .dataframe tbody tr th {\n",
       "        vertical-align: top;\n",
       "    }\n",
       "\n",
       "    .dataframe thead th {\n",
       "        text-align: right;\n",
       "    }\n",
       "</style>\n",
       "<table border=\"1\" class=\"dataframe\">\n",
       "  <thead>\n",
       "    <tr style=\"text-align: right;\">\n",
       "      <th></th>\n",
       "      <th>id</th>\n",
       "      <th>user_id</th>\n",
       "      <th>amount</th>\n",
       "      <th>year</th>\n",
       "    </tr>\n",
       "  </thead>\n",
       "  <tbody>\n",
       "    <tr>\n",
       "      <th>count</th>\n",
       "      <td>1602.000000</td>\n",
       "      <td>1602.000000</td>\n",
       "      <td>1602.000000</td>\n",
       "      <td>1602.0</td>\n",
       "    </tr>\n",
       "    <tr>\n",
       "      <th>mean</th>\n",
       "      <td>17638.500000</td>\n",
       "      <td>37665.920724</td>\n",
       "      <td>110.705368</td>\n",
       "      <td>2018.0</td>\n",
       "    </tr>\n",
       "    <tr>\n",
       "      <th>std</th>\n",
       "      <td>462.601881</td>\n",
       "      <td>5829.659702</td>\n",
       "      <td>54.713226</td>\n",
       "      <td>0.0</td>\n",
       "    </tr>\n",
       "    <tr>\n",
       "      <th>min</th>\n",
       "      <td>16838.000000</td>\n",
       "      <td>27594.000000</td>\n",
       "      <td>25.000000</td>\n",
       "      <td>2018.0</td>\n",
       "    </tr>\n",
       "    <tr>\n",
       "      <th>25%</th>\n",
       "      <td>17238.250000</td>\n",
       "      <td>32719.750000</td>\n",
       "      <td>50.000000</td>\n",
       "      <td>2018.0</td>\n",
       "    </tr>\n",
       "    <tr>\n",
       "      <th>50%</th>\n",
       "      <td>17638.500000</td>\n",
       "      <td>37495.500000</td>\n",
       "      <td>100.000000</td>\n",
       "      <td>2018.0</td>\n",
       "    </tr>\n",
       "    <tr>\n",
       "      <th>75%</th>\n",
       "      <td>18038.750000</td>\n",
       "      <td>42978.250000</td>\n",
       "      <td>150.000000</td>\n",
       "      <td>2018.0</td>\n",
       "    </tr>\n",
       "    <tr>\n",
       "      <th>max</th>\n",
       "      <td>18439.000000</td>\n",
       "      <td>47712.000000</td>\n",
       "      <td>300.000000</td>\n",
       "      <td>2018.0</td>\n",
       "    </tr>\n",
       "  </tbody>\n",
       "</table>\n",
       "</div>"
      ],
      "text/plain": [
       "                 id       user_id       amount    year\n",
       "count   1602.000000   1602.000000  1602.000000  1602.0\n",
       "mean   17638.500000  37665.920724   110.705368  2018.0\n",
       "std      462.601881   5829.659702    54.713226     0.0\n",
       "min    16838.000000  27594.000000    25.000000  2018.0\n",
       "25%    17238.250000  32719.750000    50.000000  2018.0\n",
       "50%    17638.500000  37495.500000   100.000000  2018.0\n",
       "75%    18038.750000  42978.250000   150.000000  2018.0\n",
       "max    18439.000000  47712.000000   300.000000  2018.0"
      ]
     },
     "execution_count": 20,
     "metadata": {},
     "output_type": "execute_result"
    }
   ],
   "source": [
    "# Снова обратимся к методу describe(), чтобы оценить характеристики каждого столбца датафрейма purchase_df.\n",
    "purchase_2018.describe()"
   ]
  }
 ],
 "metadata": {
  "interpreter": {
   "hash": "a40eddbcf7cd815c82cc50de481378267fd1a9656c919678016aa9992adbf268"
  },
  "kernelspec": {
   "display_name": "Python 3.10.0 64-bit",
   "language": "python",
   "name": "python3"
  },
  "language_info": {
   "codemirror_mode": {
    "name": "ipython",
    "version": 3
   },
   "file_extension": ".py",
   "mimetype": "text/x-python",
   "name": "python",
   "nbconvert_exporter": "python",
   "pygments_lexer": "ipython3",
   "version": "3.10.0"
  },
  "orig_nbformat": 4
 },
 "nbformat": 4,
 "nbformat_minor": 2
}
