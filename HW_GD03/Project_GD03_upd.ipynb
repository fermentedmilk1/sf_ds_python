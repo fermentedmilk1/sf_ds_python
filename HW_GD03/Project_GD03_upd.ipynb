{
 "cells": [
  {
   "cell_type": "markdown",
   "metadata": {},
   "source": [
    "# Исследование поведения пользователей 2018"
   ]
  },
  {
   "cell_type": "code",
   "execution_count": 21,
   "metadata": {},
   "outputs": [],
   "source": [
    "import pandas as pd\n",
    "import numpy as np\n",
    "\n",
    "purchase = pd.read_csv(r'C:\\Users\\Yana\\Documents\\purchase.csv', sep=',')\n",
    "events = pd.read_csv(r'C:\\Users\\Yana\\Documents\\7_4_Events.csv', sep=',')\n",
    "\n",
    "# purchase = pd.read_csv('purchase.csv') \n",
    "# events = pd.read_csv('7_4_Events.csv')"
   ]
  },
  {
   "cell_type": "code",
   "execution_count": 22,
   "metadata": {},
   "outputs": [],
   "source": [
    "# создать фильтр 2018\n",
    "cond2018 = (events.start_time>='2018-01-01') & (events.start_time<'2019-01-01') & (events.event_type=='registration')\n",
    "registered = events[cond2018]  \n",
    "# список пользователей, зарег. в 2018\n",
    "lst_reg = registered['user_id'].to_list() \n",
    "# отфильтровать пользователей зарег в 2018\n",
    "events_df = events[events.user_id.isin(lst_reg)].copy() \n",
    "purchase_df = purchase[purchase.user_id.isin(lst_reg)].copy() \n",
    "# добавить ивент тип покупка\n",
    "purchase_df['event_type'] = 'purchase' \n",
    "# изменить тип \n",
    "purchase_df['event_datetime'] = pd.to_datetime(purchase_df['event_datetime'])\n",
    "# переименовать айди\n",
    "events_df = events_df.rename(columns={\"id\": \"event_id\"}) \n",
    "purchase_df = purchase_df.rename(columns={\"id\": \"purchase_id\"})\n",
    "# объединить датафреймы\n",
    "total_events_df = pd.concat([events_df,purchase_df],sort=False) \n",
    "# изменить тип \n",
    "total_events_df['start_time'] = pd.to_datetime(total_events_df['start_time'])\n",
    "#total_events_df.info()"
   ]
  },
  {
   "cell_type": "code",
   "execution_count": 23,
   "metadata": {},
   "outputs": [
    {
     "name": "stdout",
     "output_type": "stream",
     "text": [
      "8342\n",
      "1.0\n"
     ]
    }
   ],
   "source": [
    "# проверка \n",
    "user_levels = total_events_df[~total_events_df['selected_level'].isnull()].copy()\n",
    "user_levels_df = user_levels[['selected_level', 'user_id', 'start_time']]\n",
    "print(user_levels_df['user_id'].nunique()) # 8342 юзеров выбрали уровень сложности\n",
    "print(user_levels_df.groupby('user_id')['selected_level'].count().mean()) # один уровень на юзера"
   ]
  },
  {
   "cell_type": "markdown",
   "metadata": {},
   "source": [
    "Выделите группы пользователей"
   ]
  },
  {
   "cell_type": "code",
   "execution_count": 24,
   "metadata": {},
   "outputs": [
    {
     "name": "stdout",
     "output_type": "stream",
     "text": [
      "8342\n"
     ]
    }
   ],
   "source": [
    "group_easy = user_levels_df[(user_levels_df['selected_level'] == 'easy')][\"user_id\"].unique()\n",
    "group_medium = user_levels_df[(user_levels_df['selected_level'] == 'medium')][\"user_id\"].unique()\n",
    "group_hard = user_levels_df[(user_levels_df['selected_level'] == 'hard')][\"user_id\"].unique()\n",
    "set_easy = set(group_easy) #список выбравших низкий уровень сложности\n",
    "set_medium = set(group_medium) #список выбравших средний уровень сложности\n",
    "set_hard = set(group_hard) #список выбравших высокий уровень сложности\n",
    "print(len(set_easy)+len(set_medium)+len(set_hard)) # совпадает с ранее рассчитанным количеством"
   ]
  },
  {
   "cell_type": "markdown",
   "metadata": {},
   "source": [
    "# UPDATED CALCULATIONS"
   ]
  },
  {
   "cell_type": "code",
   "execution_count": 25,
   "metadata": {},
   "outputs": [],
   "source": [
    "# переименовать колонку event_datetime на start_time в таблице purchase_df чтобы подготовить к объединению \n",
    "purchase_df_2 = purchase_df.copy().rename(columns={\"event_datetime\": \"start_time\"})\n",
    "total_events_2 = pd.concat([events_df,purchase_df_2],sort=False) # объединить датафреймы\n",
    "\n",
    "# здесь можем суммировать даты потому что для всех событый кроме прохождения туториала есть только ОДНА дата\n",
    "a = total_events_2.pivot_table(\n",
    "    values='start_time',\n",
    "    index= ['user_id'],\n",
    "    columns= 'event_type',\n",
    "    aggfunc='sum')\n",
    "\n",
    "# вытаскиваем user_id из индекса в колонку\n",
    "a.reset_index(level=0, inplace=True)\n",
    "# убираем лишние колонки\n",
    "del a[\"tutorial_finish\"]\n",
    "del a[\"tutorial_start\"]\n",
    "del a[\"pack_choice\"] \n",
    "# меняем тип на дату\n",
    "a['registration'] = pd.to_datetime(a['registration'])\n",
    "a['level_choice'] = pd.to_datetime(a['level_choice'])\n",
    "# display(a)\n",
    "\n",
    "# расчет времени между событиями для каждого пользователя\n",
    "a['timedelta'] = a['purchase'] - a['registration'] #разница между регистрацией и оплатой\n",
    "a['timedelta2'] = a['level_choice'] - a['registration'] #разница между регистрацией и выбором уровня\n",
    "a['timedelta3'] = a['purchase'] - a['level_choice'] #разница между выбором уровня и оплатой"
   ]
  },
  {
   "cell_type": "code",
   "execution_count": 26,
   "metadata": {},
   "outputs": [],
   "source": [
    "# расчет среднего времени между событиями для пользователей выбравших низкий уровень сложности\n",
    "easy_df = a[a[\"user_id\"].isin(set_easy)].copy()\n",
    "easy_time = easy_df['timedelta'].mean() #reg to purchase\n",
    "easy_time2 = easy_df['timedelta2'].mean() #reg to select level\n",
    "easy_time3 = easy_df['timedelta3'].mean() #select level to purchase\n",
    "easy_total = easy_df['user_id'].nunique()\n",
    "easy_buyers = easy_df[~easy_df['purchase'].isnull()]['user_id'].nunique()\n",
    "easy_percent = round((easy_buyers/easy_total*100),2)\n",
    "\n",
    "# расчет среднего времени между событиями для пользователей выбравших средний уровень сложности\n",
    "medium_df = a[a[\"user_id\"].isin(set_medium)].copy()\n",
    "medium_time = medium_df['timedelta'].mean() #reg to purchase\n",
    "medium_time2 = medium_df['timedelta2'].mean() #reg to select level\n",
    "medium_time3 = medium_df['timedelta3'].mean() #select level to purchase\n",
    "medium_total = medium_df['user_id'].nunique()\n",
    "medium_buyers = medium_df[~medium_df['purchase'].isnull()]['user_id'].nunique()\n",
    "medium_percent = round((medium_buyers/medium_total*100),2)\n",
    "\n",
    "# расчет среднего времени между событиями для пользователей выбравших высокий уровень сложности\n",
    "hard_df = a[a[\"user_id\"].isin(set_hard)].copy()\n",
    "hard_time = hard_df['timedelta'].mean() #reg to purchase\n",
    "hard_time2 = hard_df['timedelta2'].mean() #reg to select level\n",
    "hard_time3 = hard_df['timedelta3'].mean() #select level to purchase\n",
    "hard_total = hard_df['user_id'].nunique()\n",
    "hard_buyers = hard_df[~hard_df['purchase'].isnull()]['user_id'].nunique()\n",
    "hard_percent = round((hard_buyers/hard_total*100),2)"
   ]
  },
  {
   "cell_type": "code",
   "execution_count": 27,
   "metadata": {},
   "outputs": [
    {
     "data": {
      "text/html": [
       "<div>\n",
       "<style scoped>\n",
       "    .dataframe tbody tr th:only-of-type {\n",
       "        vertical-align: middle;\n",
       "    }\n",
       "\n",
       "    .dataframe tbody tr th {\n",
       "        vertical-align: top;\n",
       "    }\n",
       "\n",
       "    .dataframe thead th {\n",
       "        text-align: right;\n",
       "    }\n",
       "</style>\n",
       "<table border=\"1\" class=\"dataframe\">\n",
       "  <thead>\n",
       "    <tr style=\"text-align: right;\">\n",
       "      <th></th>\n",
       "      <th>selected_level</th>\n",
       "      <th>total</th>\n",
       "      <th>buyers</th>\n",
       "      <th>percent</th>\n",
       "      <th>timedelta_reg_purchase</th>\n",
       "      <th>timedelta_reg_lvl</th>\n",
       "      <th>timedelta_lvl_purchase</th>\n",
       "    </tr>\n",
       "  </thead>\n",
       "  <tbody>\n",
       "    <tr>\n",
       "      <th>0</th>\n",
       "      <td>easy</td>\n",
       "      <td>2448</td>\n",
       "      <td>189</td>\n",
       "      <td>7.72</td>\n",
       "      <td>3 days 22:10:23.211640211</td>\n",
       "      <td>0 days 07:10:06.324754901</td>\n",
       "      <td>3 days 14:58:52.941798941</td>\n",
       "    </tr>\n",
       "    <tr>\n",
       "      <th>1</th>\n",
       "      <td>medium</td>\n",
       "      <td>4645</td>\n",
       "      <td>969</td>\n",
       "      <td>20.86</td>\n",
       "      <td>4 days 06:12:06.576883384</td>\n",
       "      <td>0 days 07:08:13.360387513</td>\n",
       "      <td>3 days 23:14:13.165118679</td>\n",
       "    </tr>\n",
       "    <tr>\n",
       "      <th>2</th>\n",
       "      <td>hard</td>\n",
       "      <td>1249</td>\n",
       "      <td>442</td>\n",
       "      <td>35.39</td>\n",
       "      <td>3 days 14:55:19.257918552</td>\n",
       "      <td>0 days 07:18:32.228182546</td>\n",
       "      <td>3 days 07:20:41.420814479</td>\n",
       "    </tr>\n",
       "  </tbody>\n",
       "</table>\n",
       "</div>"
      ],
      "text/plain": [
       "  selected_level  total  buyers  percent    timedelta_reg_purchase  \\\n",
       "0           easy   2448     189     7.72 3 days 22:10:23.211640211   \n",
       "1         medium   4645     969    20.86 4 days 06:12:06.576883384   \n",
       "2           hard   1249     442    35.39 3 days 14:55:19.257918552   \n",
       "\n",
       "          timedelta_reg_lvl    timedelta_lvl_purchase  \n",
       "0 0 days 07:10:06.324754901 3 days 14:58:52.941798941  \n",
       "1 0 days 07:08:13.360387513 3 days 23:14:13.165118679  \n",
       "2 0 days 07:18:32.228182546 3 days 07:20:41.420814479  "
      ]
     },
     "execution_count": 27,
     "metadata": {},
     "output_type": "execute_result"
    }
   ],
   "source": [
    "# вывод данных\n",
    "# columns\n",
    "total = [easy_total, medium_total, hard_total]\n",
    "buyers = [easy_buyers, medium_buyers, hard_buyers]\n",
    "percent = [easy_percent, medium_percent, hard_percent]\n",
    "timedelta_reg_pur = [easy_time, medium_time, hard_time]\n",
    "timedelta_reg_lvl = [easy_time2, medium_time2, hard_time2]\n",
    "timedelta_lvl_pur = [easy_time3, medium_time3, hard_time3]\n",
    "  \n",
    "# index\n",
    "selected_level = ['easy', 'medium', 'hard']\n",
    "  \n",
    "# полная таблица с результатами\n",
    "result_df = pd.DataFrame(list(zip(selected_level, total, buyers, percent, \n",
    "                                  timedelta_reg_pur, timedelta_reg_lvl, timedelta_lvl_pur)),\n",
    "                  columns = ['selected_level','total','buyers','percent',\n",
    "                             'timedelta_reg_purchase','timedelta_reg_lvl','timedelta_lvl_purchase'])\n",
    "result_df"
   ]
  },
  {
   "cell_type": "markdown",
   "metadata": {},
   "source": [
    "Есть ли зависимость между выбранным уровнем сложности и вероятностью оплаты?\n",
    "\n",
    "1. наибольшее количество пользователей (4645 человек) выбрало средний уровень сложности, каждый 5й совершал покупку, но им в среднем понадобилось больше всего времени (почти 4 дня) чтобы совершить на покупку.\n",
    "\n",
    "2. наименьшее количество пользователей (1249 человек) выбрало высокий уровень сложности, каждый 3й совершал покупку, однако им в среднем понадобилось меньше всего времени (3 дня и 7,35 часа) чтобы совершить покупку.\n",
    "\n",
    "3. те, кто выбрал низкий уровень сложности (примерно треть от всех, кто выбрал уровень сложности) редко совершали покупку: только 7,72 %.\n",
    "\n",
    "**Вывод: чем выше уровень трудности выбрал пользователь, тем вероятнее что он совершит покупку.**"
   ]
  },
  {
   "cell_type": "markdown",
   "metadata": {},
   "source": [
    "Существует ли разница во времени между событиями регистрации и оплаты?\n",
    "- опять же, быстрее всех совершают покупку пользователи, выбравшие высокий уровень сложности (за 3 дня и 15 часов).\n",
    "- медленнее всех совершают покупку пользователи, выбравшие средний уровень сложности (за 4 дня и 6,2 часов).\n",
    "- те, кто выбрал низкий уровень сложности совершают покупку в среднем через 3 дня и 22,2 часов после регистрации.\n",
    "\n",
    "похоже что время между регистрацией и выбором уровня для разных групп различается мало, и в среднем составляет 7 часов и 12 минут"
   ]
  }
 ],
 "metadata": {
  "interpreter": {
   "hash": "a40eddbcf7cd815c82cc50de481378267fd1a9656c919678016aa9992adbf268"
  },
  "kernelspec": {
   "display_name": "Python 3.10.0 64-bit",
   "language": "python",
   "name": "python3"
  },
  "language_info": {
   "codemirror_mode": {
    "name": "ipython",
    "version": 3
   },
   "file_extension": ".py",
   "mimetype": "text/x-python",
   "name": "python",
   "nbconvert_exporter": "python",
   "pygments_lexer": "ipython3",
   "version": "3.10.0"
  },
  "orig_nbformat": 4
 },
 "nbformat": 4,
 "nbformat_minor": 2
}
