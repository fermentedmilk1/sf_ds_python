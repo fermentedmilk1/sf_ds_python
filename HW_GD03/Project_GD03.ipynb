{
 "cells": [
  {
   "cell_type": "markdown",
   "metadata": {},
   "source": [
    "Исследование поведения пользователей 2018"
   ]
  },
  {
   "cell_type": "markdown",
   "metadata": {},
   "source": [
    "    - Получите данные из файла.\n",
    "    - Произведите обзор данных и преобразование данных, если оно необходимо."
   ]
  },
  {
   "cell_type": "code",
   "execution_count": 47,
   "metadata": {},
   "outputs": [],
   "source": [
    "import pandas as pd\n",
    "import numpy as np\n",
    "\n",
    "purchase = pd.read_csv(r'C:\\Users\\Yana\\Documents\\purchase.csv', sep=',')\n",
    "events = pd.read_csv(r'C:\\Users\\Yana\\Documents\\7_4_Events.csv', sep=',')"
   ]
  },
  {
   "cell_type": "code",
   "execution_count": 48,
   "metadata": {},
   "outputs": [],
   "source": [
    "cond2018 = (events.start_time>='2018-01-01') & (events.start_time<'2019-01-01') & (events.event_type=='registration')\n",
    "registered = events[cond2018]  \n",
    "lst_reg = registered['user_id'].to_list() # список пользователей, зарег. в 2018\n",
    "# отфильтровать пользователей зарег в 2018\n",
    "events_df = events[events.user_id.isin(lst_reg)].copy() \n",
    "purchase_df = purchase[purchase.user_id.isin(lst_reg)].copy() "
   ]
  },
  {
   "cell_type": "code",
   "execution_count": 49,
   "metadata": {},
   "outputs": [],
   "source": [
    "purchase_df['event_type'] = 'purchase' # добавить ивент тип покупка\n",
    "events_df = events_df.rename(columns={\"id\": \"event_id\"}) # переименовать айди\n",
    "purchase_df = purchase_df.rename(columns={\"id\": \"purchase_id\"}) # переименовать айди\n",
    "purchase_df['event_datetime'] = pd.to_datetime(purchase_df['event_datetime'])\n",
    "total_events_df = pd.concat([events_df,purchase_df],sort=False) # объединить датафреймы"
   ]
  },
  {
   "cell_type": "code",
   "execution_count": 50,
   "metadata": {},
   "outputs": [
    {
     "name": "stdout",
     "output_type": "stream",
     "text": [
      "<class 'pandas.core.frame.DataFrame'>\n",
      "Int64Index: 68559 entries, 51405 to 2778\n",
      "Data columns (total 9 columns):\n",
      " #   Column          Non-Null Count  Dtype         \n",
      "---  ------          --------------  -----         \n",
      " 0   event_id        66959 non-null  float64       \n",
      " 1   event_type      68559 non-null  object        \n",
      " 2   selected_level  8342 non-null   object        \n",
      " 3   start_time      66959 non-null  datetime64[ns]\n",
      " 4   tutorial_id     32954 non-null  float64       \n",
      " 5   user_id         68559 non-null  int64         \n",
      " 6   purchase_id     1600 non-null   float64       \n",
      " 7   event_datetime  1600 non-null   datetime64[ns]\n",
      " 8   amount          1600 non-null   float64       \n",
      "dtypes: datetime64[ns](2), float64(4), int64(1), object(2)\n",
      "memory usage: 5.2+ MB\n"
     ]
    }
   ],
   "source": [
    "# изменить тип объект на дата для колонок с датой\n",
    "total_events_df['start_time'] = pd.to_datetime(total_events_df['start_time'])\n",
    "total_events_df.info()"
   ]
  },
  {
   "cell_type": "markdown",
   "metadata": {},
   "source": [
    "Есть ли зависимость между выбранным уровнем сложности и вероятностью оплаты?"
   ]
  },
  {
   "cell_type": "code",
   "execution_count": 78,
   "metadata": {},
   "outputs": [
    {
     "name": "stdout",
     "output_type": "stream",
     "text": [
      "8342\n",
      "1.0\n"
     ]
    },
    {
     "data": {
      "text/plain": [
       "medium    4645\n",
       "easy      2448\n",
       "hard      1249\n",
       "Name: selected_level, dtype: int64"
      ]
     },
     "execution_count": 78,
     "metadata": {},
     "output_type": "execute_result"
    }
   ],
   "source": [
    "user_levels = total_events_df[~total_events_df['selected_level'].isnull()].copy()\n",
    "user_levels_df = user_levels[['selected_level', 'user_id', 'start_time']]\n",
    "print(user_levels_df['user_id'].nunique()) #8342 юзеров выбрали уровень сложности\n",
    "print(user_levels_df.groupby('user_id')['selected_level'].count().mean()) #один уровень на юзера"
   ]
  },
  {
   "cell_type": "code",
   "execution_count": 81,
   "metadata": {},
   "outputs": [
    {
     "data": {
      "text/plain": [
       "medium    4645\n",
       "easy      2448\n",
       "hard      1249\n",
       "Name: selected_level, dtype: int64"
      ]
     },
     "execution_count": 81,
     "metadata": {},
     "output_type": "execute_result"
    }
   ],
   "source": [
    "user_levels_df['selected_level'].value_counts()\n",
    "# сколько пользователей в каждой группе по уровню сложности"
   ]
  },
  {
   "cell_type": "code",
   "execution_count": 80,
   "metadata": {},
   "outputs": [
    {
     "data": {
      "text/html": [
       "<div>\n",
       "<style scoped>\n",
       "    .dataframe tbody tr th:only-of-type {\n",
       "        vertical-align: middle;\n",
       "    }\n",
       "\n",
       "    .dataframe tbody tr th {\n",
       "        vertical-align: top;\n",
       "    }\n",
       "\n",
       "    .dataframe thead th {\n",
       "        text-align: right;\n",
       "    }\n",
       "</style>\n",
       "<table border=\"1\" class=\"dataframe\">\n",
       "  <thead>\n",
       "    <tr style=\"text-align: right;\">\n",
       "      <th></th>\n",
       "      <th>purchase_id</th>\n",
       "    </tr>\n",
       "    <tr>\n",
       "      <th>selected_level</th>\n",
       "      <th></th>\n",
       "    </tr>\n",
       "  </thead>\n",
       "  <tbody>\n",
       "    <tr>\n",
       "      <th>easy</th>\n",
       "      <td>189</td>\n",
       "    </tr>\n",
       "    <tr>\n",
       "      <th>hard</th>\n",
       "      <td>442</td>\n",
       "    </tr>\n",
       "    <tr>\n",
       "      <th>medium</th>\n",
       "      <td>969</td>\n",
       "    </tr>\n",
       "  </tbody>\n",
       "</table>\n",
       "</div>"
      ],
      "text/plain": [
       "                purchase_id\n",
       "selected_level             \n",
       "easy                    189\n",
       "hard                    442\n",
       "medium                  969"
      ]
     },
     "execution_count": 80,
     "metadata": {},
     "output_type": "execute_result"
    }
   ],
   "source": [
    "merged_df_1 = user_levels_df.merge(purchase_df, on='user_id', how='outer')\n",
    "# merged_df_1.groupby('selected_level')['purchase_id'].count() \n",
    "merged_df_1.pivot_table(values = ['purchase_id'], index = 'selected_level', aggfunc='count')\n",
    "# сколько пользователей из каждой группы совершили покупку"
   ]
  },
  {
   "cell_type": "code",
   "execution_count": 89,
   "metadata": {},
   "outputs": [
    {
     "data": {
      "text/plain": [
       "selected_level\n",
       "easy     3 days 14:58:52.941798941\n",
       "hard     3 days 07:20:41.420814479\n",
       "medium   3 days 23:14:13.165118679\n",
       "Name: timedelta, dtype: timedelta64[ns]"
      ]
     },
     "metadata": {},
     "output_type": "display_data"
    },
    {
     "data": {
      "text/plain": [
       "selected_level      \n",
       "easy            0.25          1 days 17:18:56\n",
       "                0.50          3 days 06:03:50\n",
       "                0.75          5 days 06:58:18\n",
       "hard            0.25   1 days 14:57:23.500000\n",
       "                0.50   3 days 03:13:57.500000\n",
       "                0.75   4 days 19:16:00.250000\n",
       "medium          0.25          2 days 01:20:07\n",
       "                0.50          3 days 19:53:19\n",
       "                0.75          5 days 16:07:19\n",
       "Name: timedelta, dtype: timedelta64[ns]"
      ]
     },
     "execution_count": 89,
     "metadata": {},
     "output_type": "execute_result"
    }
   ],
   "source": [
    "merged_buyers_only = merged_df_1[~merged_df_1['purchase_id'].isnull()].copy()\n",
    "merged_buyers_only['timedelta'] = merged_buyers_only['event_datetime'] - merged_buyers_only['start_time']\n",
    "\n",
    "display(merged_buyers_only.groupby('selected_level')['timedelta'].mean())\n",
    "merged_buyers_only.groupby('selected_level')['timedelta'].quantile([.25, .5, .75])"
   ]
  },
  {
   "cell_type": "markdown",
   "metadata": {},
   "source": [
    "    - Выделите группы пользователей (по аналогии с группами, которые мы выделяли, когда находили зависимость между фактом прохождения обучения и оплатой).\n",
    "    - Рассчитайте для каждой группы процент оплат (это мы тоже уже делали).\n",
    "    - Для каждой группы сделайте по два датафрейма: один — с событиями выбора уровня сложности, другой — с событиями оплаты.\n",
    "    - Объедините датафреймы в рамках одной группы и найдите разницу во времени между событиями (по аналогии с расчётом, который мы уже производили, когда находили время между событиями для всех пользователей).\n",
    "    - Рассчитайте среднее время между событиями."
   ]
  }
 ],
 "metadata": {
  "interpreter": {
   "hash": "a40eddbcf7cd815c82cc50de481378267fd1a9656c919678016aa9992adbf268"
  },
  "kernelspec": {
   "display_name": "Python 3.10.0 64-bit",
   "language": "python",
   "name": "python3"
  },
  "language_info": {
   "codemirror_mode": {
    "name": "ipython",
    "version": 3
   },
   "file_extension": ".py",
   "mimetype": "text/x-python",
   "name": "python",
   "nbconvert_exporter": "python",
   "pygments_lexer": "ipython3",
   "version": "3.10.0"
  },
  "orig_nbformat": 4
 },
 "nbformat": 4,
 "nbformat_minor": 2
}
