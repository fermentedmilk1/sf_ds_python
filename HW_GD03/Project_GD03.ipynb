{
 "cells": [
  {
   "cell_type": "markdown",
   "metadata": {},
   "source": [
    "# Исследование поведения пользователей 2018"
   ]
  },
  {
   "cell_type": "markdown",
   "metadata": {},
   "source": [
    "Получите данные из файла.\n",
    "Произведите обзор данных и преобразование данных, если оно необходимо."
   ]
  },
  {
   "cell_type": "code",
   "execution_count": 182,
   "metadata": {},
   "outputs": [],
   "source": [
    "import pandas as pd\n",
    "import numpy as np\n",
    "\n",
    "purchase = pd.read_csv(r'C:\\Users\\Yana\\Documents\\purchase.csv', sep=',')\n",
    "events = pd.read_csv(r'C:\\Users\\Yana\\Documents\\7_4_Events.csv', sep=',')"
   ]
  },
  {
   "cell_type": "code",
   "execution_count": 183,
   "metadata": {},
   "outputs": [],
   "source": [
    "cond2018 = (events.start_time>='2018-01-01') & (events.start_time<'2019-01-01') & (events.event_type=='registration')\n",
    "registered = events[cond2018]  \n",
    "lst_reg = registered['user_id'].to_list() # список пользователей, зарег. в 2018\n",
    "# отфильтровать пользователей зарег в 2018\n",
    "events_df = events[events.user_id.isin(lst_reg)].copy() \n",
    "purchase_df = purchase[purchase.user_id.isin(lst_reg)].copy() "
   ]
  },
  {
   "cell_type": "code",
   "execution_count": 184,
   "metadata": {},
   "outputs": [],
   "source": [
    "purchase_df['event_type'] = 'purchase' # добавить ивент тип покупка\n",
    "purchase_df['event_datetime'] = pd.to_datetime(purchase_df['event_datetime'])\n",
    "# purchase_df = purchase_df.rename(columns={\"event_datetime\": \"start_time\"})\n",
    "\n",
    "events_df = events_df.rename(columns={\"id\": \"event_id\"}) # переименовать айди\n",
    "purchase_df = purchase_df.rename(columns={\"id\": \"purchase_id\"}) # переименовать айди\n",
    "\n",
    "total_events_df = pd.concat([events_df,purchase_df],sort=False) # объединить датафреймы"
   ]
  },
  {
   "cell_type": "code",
   "execution_count": 185,
   "metadata": {},
   "outputs": [
    {
     "name": "stdout",
     "output_type": "stream",
     "text": [
      "<class 'pandas.core.frame.DataFrame'>\n",
      "Int64Index: 68559 entries, 51405 to 2778\n",
      "Data columns (total 9 columns):\n",
      " #   Column          Non-Null Count  Dtype         \n",
      "---  ------          --------------  -----         \n",
      " 0   event_id        66959 non-null  float64       \n",
      " 1   event_type      68559 non-null  object        \n",
      " 2   selected_level  8342 non-null   object        \n",
      " 3   start_time      66959 non-null  datetime64[ns]\n",
      " 4   tutorial_id     32954 non-null  float64       \n",
      " 5   user_id         68559 non-null  int64         \n",
      " 6   purchase_id     1600 non-null   float64       \n",
      " 7   event_datetime  1600 non-null   datetime64[ns]\n",
      " 8   amount          1600 non-null   float64       \n",
      "dtypes: datetime64[ns](2), float64(4), int64(1), object(2)\n",
      "memory usage: 5.2+ MB\n"
     ]
    }
   ],
   "source": [
    "# изменить тип объект на дата для колонок с датой\n",
    "total_events_df['start_time'] = pd.to_datetime(total_events_df['start_time'])\n",
    "total_events_df.info()"
   ]
  },
  {
   "cell_type": "code",
   "execution_count": 186,
   "metadata": {},
   "outputs": [
    {
     "name": "stdout",
     "output_type": "stream",
     "text": [
      "8342\n",
      "1.0\n"
     ]
    }
   ],
   "source": [
    "user_levels = total_events_df[~total_events_df['selected_level'].isnull()].copy()\n",
    "print(user_levels_df['user_id'].nunique()) # 8342 юзеров выбрали уровень сложности\n",
    "print(user_levels_df.groupby('user_id')['selected_level'].count().mean()) # один уровень на юзера"
   ]
  },
  {
   "cell_type": "markdown",
   "metadata": {},
   "source": [
    "Выделите группы пользователей"
   ]
  },
  {
   "cell_type": "code",
   "execution_count": 187,
   "metadata": {},
   "outputs": [
    {
     "name": "stdout",
     "output_type": "stream",
     "text": [
      "8342\n"
     ]
    }
   ],
   "source": [
    "group_easy = user_levels_df[(user_levels_df['selected_level'] == 'easy')][\"user_id\"].unique()\n",
    "group_medium = user_levels_df[(user_levels_df['selected_level'] == 'medium')][\"user_id\"].unique()\n",
    "group_hard = user_levels_df[(user_levels_df['selected_level'] == 'hard')][\"user_id\"].unique()\n",
    "set_easy = set(group_easy) #список выбравших низкий уровень сложности\n",
    "set_medium = set(group_medium) #список выбравших средний уровень сложности\n",
    "set_hard = set(group_hard) #список выбравших высокий уровень сложности\n",
    "print(len(set_easy)+len(set_medium)+len(set_hard)) # совпадает с ранее рассчитанным количеством"
   ]
  },
  {
   "cell_type": "markdown",
   "metadata": {},
   "source": [
    "Рассчитайте для каждой группы процент оплат"
   ]
  },
  {
   "cell_type": "code",
   "execution_count": 188,
   "metadata": {},
   "outputs": [
    {
     "data": {
      "text/html": [
       "<div>\n",
       "<style scoped>\n",
       "    .dataframe tbody tr th:only-of-type {\n",
       "        vertical-align: middle;\n",
       "    }\n",
       "\n",
       "    .dataframe tbody tr th {\n",
       "        vertical-align: top;\n",
       "    }\n",
       "\n",
       "    .dataframe thead th {\n",
       "        text-align: right;\n",
       "    }\n",
       "</style>\n",
       "<table border=\"1\" class=\"dataframe\">\n",
       "  <thead>\n",
       "    <tr style=\"text-align: right;\">\n",
       "      <th></th>\n",
       "      <th>selected_level</th>\n",
       "      <th>users_count</th>\n",
       "      <th>users_percent</th>\n",
       "      <th>purchase_count</th>\n",
       "      <th>purchase_percent</th>\n",
       "      <th>timedelta_mean_level-to-purchase</th>\n",
       "    </tr>\n",
       "  </thead>\n",
       "  <tbody>\n",
       "    <tr>\n",
       "      <th>0</th>\n",
       "      <td>medium</td>\n",
       "      <td>4645</td>\n",
       "      <td>55.68</td>\n",
       "      <td>969</td>\n",
       "      <td>20.86</td>\n",
       "      <td>3 days 23:14:13.165118679</td>\n",
       "    </tr>\n",
       "    <tr>\n",
       "      <th>1</th>\n",
       "      <td>easy</td>\n",
       "      <td>2448</td>\n",
       "      <td>29.35</td>\n",
       "      <td>189</td>\n",
       "      <td>7.72</td>\n",
       "      <td>3 days 14:58:52.941798941</td>\n",
       "    </tr>\n",
       "    <tr>\n",
       "      <th>2</th>\n",
       "      <td>hard</td>\n",
       "      <td>1249</td>\n",
       "      <td>14.97</td>\n",
       "      <td>442</td>\n",
       "      <td>35.39</td>\n",
       "      <td>3 days 07:20:41.420814479</td>\n",
       "    </tr>\n",
       "  </tbody>\n",
       "</table>\n",
       "</div>"
      ],
      "text/plain": [
       "  selected_level  users_count  users_percent  purchase_count  \\\n",
       "0         medium         4645          55.68             969   \n",
       "1           easy         2448          29.35             189   \n",
       "2           hard         1249          14.97             442   \n",
       "\n",
       "   purchase_percent timedelta_mean_level-to-purchase  \n",
       "0             20.86        3 days 23:14:13.165118679  \n",
       "1              7.72        3 days 14:58:52.941798941  \n",
       "2             35.39        3 days 07:20:41.420814479  "
      ]
     },
     "metadata": {},
     "output_type": "display_data"
    }
   ],
   "source": [
    "# сколько пользователей в каждой группе по уровню сложности\n",
    "groups_df = user_levels_df['selected_level'].value_counts().to_frame().reset_index()\n",
    "groups_df = groups_df.rename(columns={\"selected_level\": \"users_count\"})\n",
    "groups_df = groups_df.rename(columns={\"index\": \"selected_level\"})\n",
    "groups_df['users_percent'] = (groups_df['users_count']/(user_levels_df['user_id'].nunique())*100).round(decimals=2)\n",
    "\n",
    "merged_df_1 = user_levels_df.merge(purchase_df, on='user_id', how='outer')\n",
    "bought_groups_df = merged_df_1.groupby('selected_level')['purchase_id'].count().to_frame().reset_index()\n",
    "# merged_df_1.pivot_table(values = ['purchase_id'], index = 'selected_level', aggfunc='count')\n",
    "bought_groups_df = bought_groups_df.rename(columns={\"purchase_id\": \"purchase_count\"})\n",
    "merged_buyers_only = merged_df_1[~merged_df_1['purchase_id'].isnull()].copy()\n",
    "merged_buyers_only['timedelta'] = merged_buyers_only['event_datetime'] - merged_buyers_only['start_time']\n",
    "\n",
    "# среднее время между выбором уровня и покупкой в зависимости от уровня\n",
    "level_buytime_df = merged_buyers_only.groupby('selected_level')['timedelta'].mean().to_frame().reset_index()\n",
    "level_buytime_df = level_buytime_df.rename(columns={\"timedelta\": \"timedelta_mean_level-to-purchase\"})\n",
    "# merged_buyers_only.groupby('selected_level')['timedelta'].quantile([.25, .5, .75])\n",
    "\n",
    "level_stats_df = groups_df.merge(bought_groups_df, on='selected_level', how='outer')\n",
    "\n",
    "# процент оплат для каждой группы\n",
    "level_stats_df['purchase_percent'] = (level_stats_df['purchase_count'] / level_stats_df['users_count']*100).round(decimals=2)\n",
    "\n",
    "# полная таблица\n",
    "full_level_stats_df = level_stats_df.merge(level_buytime_df, on='selected_level',how='outer')\n",
    "display(full_level_stats_df)"
   ]
  },
  {
   "cell_type": "markdown",
   "metadata": {},
   "source": [
    "**Есть ли зависимость между выбранным уровнем сложности и вероятностью оплаты?**\n",
    "\n",
    "1. наибольшее количество пользователей (4645 человек) выбрало средний уровень сложности, но им в среднем понадобилось больше всего времени (почти 4 дня) чтобы совершить на покупку.\n",
    "\n",
    "2. наименьшее количество пользователей (1249 человек) выбрало высокий уровень сложности, однако им в среднем понадобилось меньше всего времени (3 дня и 7,35 часа) чтобы совершить покупку.\n",
    "\n",
    "3. те, кто выбрал низкий уровень сложности (примерно треть от всех, кто выбрал уровень сложности) редко совершали покупку: только 7,72 %.\n",
    "\n",
    "**Вывод: чем выше уровень трудности выбрал пользователь, тем вероятнее что он совершит покупку.**"
   ]
  },
  {
   "cell_type": "markdown",
   "metadata": {},
   "source": []
  },
  {
   "cell_type": "markdown",
   "metadata": {},
   "source": [
    "Различается ли временной промежуток между регистрацией и оплатой у групп пользователей с разным уровнем сложности?"
   ]
  },
  {
   "cell_type": "code",
   "execution_count": 181,
   "metadata": {},
   "outputs": [
    {
     "name": "stdout",
     "output_type": "stream",
     "text": [
      "Временной промежуток между регистрацией и оплатой у групп пользователей с:\n",
      "1) низким уровнем сложности: 3 days 22:10:23.211640211,\n",
      "2) средним уровнем сложности: 4 days 06:12:06.576883384,\n",
      "3) высоким уровнем сложности: 3 days 14:55:19.257918552\n"
     ]
    }
   ],
   "source": [
    "purchase_df = purchase_df.rename(columns={\"event_datetime\": \"start_time\"})\n",
    "total_events_2 = pd.concat([events_df,purchase_df],sort=False) # объединить датафреймы\n",
    "\n",
    "a = total_events_2.pivot_table(\n",
    "    values='start_time',\n",
    "    index= ['user_id'],\n",
    "    columns= 'event_type',\n",
    "    aggfunc='sum')\n",
    "\n",
    "a.reset_index(level=0, inplace=True)\n",
    "del a[\"tutorial_finish\"]\n",
    "del a[\"tutorial_start\"]\n",
    "del a[\"pack_choice\"] \n",
    "# del a[\"level_choice\"] \n",
    "a = a[~a['purchase'].isnull()].copy()\n",
    "a['registration'] = pd.to_datetime(a['registration'])\n",
    "a['level_choice'] = pd.to_datetime(a['level_choice'])\n",
    "\n",
    "easy_df = a[a[\"user_id\"].isin(set_easy)].copy()\n",
    "easy_df['timedelta'] = easy_df['purchase'] - easy_df['registration'] \n",
    "easy_df['timedelta2'] = easy_df['level_choice'] - easy_df['registration'] \n",
    "easy_time = easy_df['timedelta'].mean()\n",
    "\n",
    "medium_df = a[a[\"user_id\"].isin(set_medium)].copy()\n",
    "medium_df['timedelta'] = medium_df['purchase'] - medium_df['registration'] \n",
    "medium_df['timedelta2'] = medium_df['level_choice'] - medium_df['registration'] \n",
    "medium_time = medium_df['timedelta'].mean()\n",
    "\n",
    "hard_df = a[a[\"user_id\"].isin(set_hard)].copy()\n",
    "hard_df['timedelta'] = hard_df['purchase'] - hard_df['registration'] \n",
    "hard_df['timedelta2'] = hard_df['level_choice'] - hard_df['registration'] \n",
    "hard_time = hard_df['timedelta'].mean()\n",
    "\n",
    "print(f'''Временной промежуток между регистрацией и оплатой у групп пользователей с:\n",
    "1) низким уровнем сложности: {easy_time},\n",
    "2) средним уровнем сложности: {medium_time},\n",
    "3) высоким уровнем сложности: {hard_time}''')\n",
    "\n",
    "#display(easy_df['timedelta2'].mean())\n",
    "#display(medium_df['timedelta2'].mean())\n",
    "#display(hard_df['timedelta2'].mean())\n",
    "#display((easy_df['timedelta2'].mean()+medium_df['timedelta2'].mean()+hard_df['timedelta2'].mean())/3)"
   ]
  },
  {
   "cell_type": "markdown",
   "metadata": {},
   "source": [
    "**Существует ли разница во времени между событиями регистрации и оплаты?**\n",
    "- опять же, быстрее всех совершают покупку пользователи, выбравшие высокий уровень сложности (за 3 дня и 15 часов).\n",
    "- медленнее всех совершают покупку пользователи, выбравшие средний уровень сложности (за 4 дня и 6,2 часов).\n",
    "- те, кто выбрал низкий уровень сложности совершают покупку в среднем через 3 дня и 22,2 часов после регистрации.\n",
    "\n",
    "похоже что время между регистрацией и выбором уровня для разных групп различается мало, и в среднем составляет 7 часов и 15 минут"
   ]
  }
 ],
 "metadata": {
  "interpreter": {
   "hash": "a40eddbcf7cd815c82cc50de481378267fd1a9656c919678016aa9992adbf268"
  },
  "kernelspec": {
   "display_name": "Python 3.10.0 64-bit",
   "language": "python",
   "name": "python3"
  },
  "language_info": {
   "codemirror_mode": {
    "name": "ipython",
    "version": 3
   },
   "file_extension": ".py",
   "mimetype": "text/x-python",
   "name": "python",
   "nbconvert_exporter": "python",
   "pygments_lexer": "ipython3",
   "version": "3.10.0"
  },
  "orig_nbformat": 4
 },
 "nbformat": 4,
 "nbformat_minor": 2
}
