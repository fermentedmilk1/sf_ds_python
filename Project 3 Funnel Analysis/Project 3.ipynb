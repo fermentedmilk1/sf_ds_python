{
 "cells": [
  {
   "cell_type": "code",
   "execution_count": 1,
   "metadata": {},
   "outputs": [],
   "source": [
    "import pandas as pd\n",
    "import numpy as np"
   ]
  },
  {
   "cell_type": "markdown",
   "metadata": {},
   "source": [
    "# 44. PROJECT-3. Анализ воронки \n",
    "\n",
    "## Описание данных\n",
    "\n",
    "Для проекта мы будем использовать уже знакомый вам датасет — таблицы event и purchase, хранящие данные о действиях пользователей в игре Quiz Freeze.\n",
    "\n",
    "## Задание\n",
    "\n",
    "Вот список вопросов, который вы составили после встречи с командой.\n",
    "\n",
    "### Гипотеза 1\n",
    "По идее, должна быть разница в поведении групп, которые проходят и не проходят обучение. Но так ли это? Влияет ли обучение на скорость прохождения других этапов игры?\n",
    "\n",
    "### Гипотеза 2\n",
    "Кажется, повторное прохождение обучения положительно влияет на оплату, верно?\n",
    "\n",
    "### Гипотеза 3\n",
    "Если пользователь сначала выбирает сложность обучения, будет ли он потом проходить обучение?\n",
    "\n",
    "## Конкретные шаги (формализованные задачи)\n",
    "\n",
    "    1. Сравнить время прохождения различных этапов для пользователей, которые завершили обучение, и пользователей, не начинавших обучение. Если показатель отличается, выяснить, насколько.\n",
    "    2. Проверить, существует ли зависимость между вероятностью оплаты вопросов и количеством обучений, которые начинал или завершал пользователь. \n",
    "    3. Выяснить, как часто пользователи начинают обучение после выбора уровня сложности. (Это позволит оценить прозрачность процесса взаимодействия с игрой: если пользователи после выбора уровня сложности обращаются к обучению, значит, работа с приложением непонятна.)\n",
    "\n",
    "Прежде чем перейти непосредственно к решению задач, проведите исследование и предобработку данных, если это необходимо.\n",
    "\n",
    "Важно! Выполнять задание необходимо на основе данных пользователей, которые зарегистрировались в 2018 году (с 1 января по 31 декабря 2018 года включительно)."
   ]
  },
  {
   "cell_type": "markdown",
   "metadata": {},
   "source": [
    "---"
   ]
  },
  {
   "cell_type": "markdown",
   "metadata": {},
   "source": [
    "**Функция для создания графика Воронка на основе типа данных Series**"
   ]
  },
  {
   "cell_type": "code",
   "execution_count": 2,
   "metadata": {},
   "outputs": [],
   "source": [
    "# based on https://support.sisense.com/kb/en/article/funnel-charts-in-python\n",
    "# Series variable called \"df\"\n",
    "import matplotlib.pyplot as plt\n",
    "\n",
    "# Function: funnel_chart, creates a funnel chart image from a dataframe of steps\n",
    "# Inputs: (1) dataframe with 2 columns. \n",
    "# The first is the \"step\", and the second is the \"val\" corresponding to each step. \n",
    "# (2) Optional boolean parameter show_n (displays the n size of each step). \n",
    "# (3) Optional paramater show_pct which allows the user to show each step of the funnel as \n",
    "# a percent of the original n size ('of whole') or a percent or the previous step ('of last step')\n",
    "# Output: matplotlib image representing a funnel chart\n",
    "def funnel_chart(df, ifpercent = True, first_max = 0, show_n=True,show_pct='NA', chart_name = 'Funnel Chart'):\n",
    "  #set up data frame\n",
    "  if ifpercent:\n",
    "    if first_max == 0:\n",
    "      first_max = df.max()\n",
    "    df = (df/first_max*100).round(2)\n",
    "  df = df.to_frame()\n",
    "  df.reset_index(level=0, inplace=True)\n",
    "  df = df.rename(columns={df.columns[0]: 'step'})\n",
    "  df = df.rename(columns={df.columns[1]: 'val'})\n",
    "  #df['val']=df['val'].astype(int)\n",
    "  my_max=df['val'][0]\n",
    "  df = df.sort_values('val',ascending=False)\n",
    "  df = df.reset_index(drop=True)\n",
    "  df['pct_of_whole']=round((df['val']/my_max)*100,2)#.astype(int)\n",
    "  pct_change=[100]\n",
    "  for j in range(1,len(df['val'])):\n",
    "    pct_change.append(int(round(df['val'][j]/df['val'][j-1]*100)))\n",
    "  df['pct_change']=pct_change\n",
    "  df = df.sort_values('val')\n",
    "  df = df.reset_index(drop=True)\n",
    "  df['left']=(my_max-df['val'])/2\n",
    "  df['col']=['indigo','purple','darkviolet','DarkOrchid','MediumOrchid','orchid'] #,'plum','thistle']\n",
    "\n",
    "  #initialize plot\n",
    "  fig, ax = plt.subplots()\n",
    "  for i in range(len(df['step'])):\n",
    "    ax.barh(0.5*i+0.5, df['val'][i], height=0.3, left=df['left'][i], align='center', color=df['col'][i],alpha = 1.0, label=df['step'][i])\n",
    "    if(show_n==True):\n",
    "      ax.annotate(' ' + df['step'][i] + ': ' + str(df['val'][i]),xy=(my_max,0.5*i+0.45),horizontalalignment='left')\n",
    "    else:\n",
    "      ax.annotate(' ' + df['step'][i],xy=(my_max,0.5*i+0.45),horizontalalignment='left')\n",
    "    if(show_pct=='of whole'):\n",
    "      ax.annotate(str(df['pct_of_whole'][i]) + '%' ,xy=(my_max/2,0.5*i+0.45),horizontalalignment='center',color='white')\n",
    "    elif(show_pct=='of last step'):\n",
    "      ax.annotate(str(df['pct_change'][i]) + '%' ,xy=(my_max/2,0.5*i+0.45),horizontalalignment='center',color='white')\n",
    "\n",
    "\n",
    "  #remove border and align chart\n",
    "  ax.axis('off')\n",
    "  fig.subplots_adjust(right=0.8)\n",
    "  # displaying the title\n",
    "  plt.title(chart_name)\n",
    "\n",
    "  return fig\n",
    "\n",
    "# Use Sisense for Cloud Data Teams to visualize a dataframe or an image by passing data to periscope.output()\n",
    "# periscope.output(funnel_chart(df,show_n=True,show_pct='of last step'))"
   ]
  },
  {
   "cell_type": "markdown",
   "metadata": {},
   "source": [
    "---"
   ]
  },
  {
   "cell_type": "markdown",
   "metadata": {},
   "source": [
    "## 1. Получите данные из файла.\n",
    "Произведите обзор данных и преобразование данных, если оно необходимо."
   ]
  },
  {
   "cell_type": "code",
   "execution_count": 3,
   "metadata": {},
   "outputs": [],
   "source": [
    "purchase = pd.read_csv(r'C:\\Users\\Yana\\Documents\\purchase.csv', sep=',')\n",
    "events = pd.read_csv(r'C:\\Users\\Yana\\Documents\\7_4_Events.csv', sep=',')\n",
    "\n",
    "# purchase = pd.read_csv('purchase.csv') \n",
    "# events = pd.read_csv('7_4_Events.csv')"
   ]
  },
  {
   "cell_type": "code",
   "execution_count": 4,
   "metadata": {},
   "outputs": [],
   "source": [
    "# создать фильтр 2018\n",
    "cond2018 = (events.start_time>='2018-01-01') & (events.start_time<'2019-01-01') & (events.event_type=='registration')\n",
    "registered = events[cond2018]  \n",
    "# список пользователей, зарег. в 2018\n",
    "lst_reg = registered['user_id'].to_list() \n",
    "# отфильтровать пользователей зарег в 2018\n",
    "events_df = events[events.user_id.isin(lst_reg)].copy() \n",
    "purchase_df = purchase[purchase.user_id.isin(lst_reg)].copy() \n",
    "# добавить ивент тип покупка\n",
    "purchase_df['event_type'] = 'purchase' \n",
    "purchase_df['event_datetime'] = pd.to_datetime(purchase_df['event_datetime'])\n",
    "# переименовать айди\n",
    "events_df = events_df.rename(columns={\"id\": \"event_id\"}) \n",
    "purchase_df = purchase_df.rename(columns={\"id\": \"purchase_id\"})\n",
    "# изменить тип \n",
    "events_df['start_time'] = pd.to_datetime(events_df['start_time'])\n",
    "events_df['selected_level'] = events_df.selected_level.astype('category')"
   ]
  },
  {
   "cell_type": "code",
   "execution_count": 5,
   "metadata": {},
   "outputs": [
    {
     "name": "stdout",
     "output_type": "stream",
     "text": [
      "<class 'pandas.core.frame.DataFrame'>\n",
      "Int64Index: 68559 entries, 51405 to 2778\n",
      "Data columns (total 8 columns):\n",
      " #   Column          Non-Null Count  Dtype         \n",
      "---  ------          --------------  -----         \n",
      " 0   event_id        66959 non-null  float64       \n",
      " 1   event_type      68559 non-null  category      \n",
      " 2   selected_level  8342 non-null   category      \n",
      " 3   start_time      68559 non-null  datetime64[ns]\n",
      " 4   tutorial_id     32954 non-null  float64       \n",
      " 5   user_id         68559 non-null  int64         \n",
      " 6   purchase_id     1600 non-null   float64       \n",
      " 7   amount          1600 non-null   float64       \n",
      "dtypes: category(2), datetime64[ns](1), float64(4), int64(1)\n",
      "memory usage: 3.8 MB\n"
     ]
    }
   ],
   "source": [
    "# переименовать колонку event_datetime на start_time в таблице purchase_df чтобы подготовить к объединению \n",
    "purchase_df = purchase_df.rename(columns={\"event_datetime\": \"start_time\"})\n",
    " # объединить датафреймы\n",
    "total_events_df = pd.concat([events_df,purchase_df],sort=False)\n",
    "# изменить тип \n",
    "total_events_df['event_type'] = total_events_df.event_type.astype('category')\n",
    "total_events_df.info()"
   ]
  },
  {
   "cell_type": "markdown",
   "metadata": {},
   "source": [
    "---"
   ]
  },
  {
   "cell_type": "markdown",
   "metadata": {},
   "source": [
    "# 1. Проверка Гипотезы 1\n",
    "По идее, должна быть разница в поведении групп, которые проходят и не проходят обучение.\n",
    "\n",
    "Влияет ли обучение на скорость прохождения других этапов игры?\n"
   ]
  },
  {
   "cell_type": "markdown",
   "metadata": {},
   "source": [
    "**сделаем две группы: пользователи которые**\n",
    "\n",
    "1. завершили обучение\n",
    "2. не начинали обучение"
   ]
  },
  {
   "cell_type": "markdown",
   "metadata": {},
   "source": [
    "## 1.1. Разбивка на группы и проверка"
   ]
  },
  {
   "cell_type": "code",
   "execution_count": 6,
   "metadata": {},
   "outputs": [
    {
     "data": {
      "text/plain": [
       "registration       19926\n",
       "tutorial_start     18050\n",
       "tutorial_finish    14904\n",
       "level_choice        8342\n",
       "pack_choice         5737\n",
       "purchase            1600\n",
       "Name: event_type, dtype: int64"
      ]
     },
     "execution_count": 6,
     "metadata": {},
     "output_type": "execute_result"
    }
   ],
   "source": [
    "# проверим сколько всего пользователей (от 2018 года) и сколько до какого шага дошли\n",
    "total_events_df['event_type'].value_counts()"
   ]
  },
  {
   "cell_type": "code",
   "execution_count": 7,
   "metadata": {},
   "outputs": [
    {
     "name": "stdout",
     "output_type": "stream",
     "text": [
      "1.4540487804878048\n",
      "10250\n"
     ]
    },
    {
     "data": {
      "text/plain": [
       "1    8015\n",
       "2    1321\n",
       "3     345\n",
       "4     178\n",
       "5     117\n",
       "6     101\n",
       "7      97\n",
       "8      54\n",
       "9      22\n",
       "Name: start_time, dtype: int64"
      ]
     },
     "execution_count": 7,
     "metadata": {},
     "output_type": "execute_result"
    }
   ],
   "source": [
    "# первая группы - пользователи которые завершили туториал хотя бы 1 раз\n",
    "complete_tutorial_df = total_events_df[total_events_df['event_type'] == 'tutorial_finish'].copy()\n",
    "set_complete = set(complete_tutorial_df[\"user_id\"].unique())\n",
    "print(14904/10250 ) #1.4540487804878048\n",
    "print(len(set_complete)) #10250\n",
    "complete_tutorial_df.groupby('user_id')['event_type'].count().mean() #1.4540487804878048 OK\n",
    "complete_tutorial_df.groupby('user_id')['start_time'].count().sum() #14904 OK\n",
    "complete_tutorial_df.groupby('user_id')['start_time'].count().value_counts() # 22 человека прошли туториал 9 раз?"
   ]
  },
  {
   "cell_type": "code",
   "execution_count": 8,
   "metadata": {},
   "outputs": [
    {
     "data": {
      "text/plain": [
       "9676"
      ]
     },
     "execution_count": 8,
     "metadata": {},
     "output_type": "execute_result"
    }
   ],
   "source": [
    "# вторая группа - пользователи которые ни разу не прошли туториал\n",
    "not_complete_tutorial = total_events_df[~total_events_df[\"user_id\"].isin(set_complete)].copy() #9676 unique\n",
    "not_complete_tutorial['user_id'].nunique() #9676+10250 = 19926 OK registration\n",
    "set_not_complete = set(not_complete_tutorial[\"user_id\"].unique())\n",
    "len(set_not_complete) #9676\n",
    "# not_complete_tutorial.groupby('user_id')['start_time'].count().value_counts()"
   ]
  },
  {
   "cell_type": "markdown",
   "metadata": {},
   "source": [
    "Какие есть события (этапы)?\n",
    "\n",
    "Событие          | количество   | количество на пользователя\n",
    "-----------------|--------------|----------------------------------------\n",
    "registration     |  19926       | 1\n",
    "tutorial_start   |  18050       | >1\n",
    "tutorial_finish  |  14904       | >1\n",
    "level_choice     |   8342       | 1\n",
    "pack_choice      |   5737       | 1\n",
    "purchase         |   1600       | 1"
   ]
  },
  {
   "cell_type": "markdown",
   "metadata": {},
   "source": [
    "## 1.2. Посчитаем количество пользователей на каждом этапе для обоих групп"
   ]
  },
  {
   "cell_type": "code",
   "execution_count": 9,
   "metadata": {},
   "outputs": [
    {
     "name": "stdout",
     "output_type": "stream",
     "text": [
      "<class 'pandas.core.frame.DataFrame'>\n",
      "RangeIndex: 19926 entries, 0 to 19925\n",
      "Data columns (total 9 columns):\n",
      " #   Column               Non-Null Count  Dtype         \n",
      "---  ------               --------------  -----         \n",
      " 0   user_id_             19926 non-null  int64         \n",
      " 1   min_registration     19926 non-null  datetime64[ns]\n",
      " 2   min_tutorial_start   11858 non-null  datetime64[ns]\n",
      " 3   min_tutorial_finish  10250 non-null  datetime64[ns]\n",
      " 4   min_level_choice     8342 non-null   datetime64[ns]\n",
      " 5   min_pack_choice      5737 non-null   datetime64[ns]\n",
      " 6   min_purchase         1600 non-null   datetime64[ns]\n",
      " 7   max_tutorial_start   11858 non-null  datetime64[ns]\n",
      " 8   max_tutorial_finish  10250 non-null  datetime64[ns]\n",
      "dtypes: datetime64[ns](8), int64(1)\n",
      "memory usage: 1.4 MB\n"
     ]
    }
   ],
   "source": [
    "# делаем сводную таблицу \n",
    "a = total_events_df.pivot_table(\n",
    "    values='start_time',\n",
    "    index= ['user_id'],\n",
    "    columns= 'event_type',\n",
    "    aggfunc=['min','max'])\n",
    "# поменять тип на дату для всех колонок \n",
    "# уже не надо, сделали раньше\n",
    "#for column in a.columns:\n",
    "#    a[column] = pd.to_datetime(a[column])\n",
    "# вытаскиваем user_id из индекса в колонку\n",
    "a.reset_index(level=0, inplace=True)\n",
    "# убираем лишние колонки - вторую дату для событий которые происходят с пользователем только 1 раз\n",
    "a.drop([('max','level_choice')], axis=1, inplace=True) #level_choice max\n",
    "a.drop([('max','pack_choice')], axis=1, inplace=True) #pack_choice max\n",
    "a.drop([('max','registration')], axis=1, inplace=True) #registration max\n",
    "a.drop([('max','purchase')], axis=1, inplace=True) #purchase max\n",
    "# переименовать колонки\n",
    "a.columns = [\"_\".join((j,k)) for j,k in a.columns]\n",
    "# упорядочить колонки \n",
    "a = a[['user_id_', 'min_registration','min_tutorial_start', 'min_tutorial_finish', \n",
    "       'min_level_choice', 'min_pack_choice', 'min_purchase','max_tutorial_start', 'max_tutorial_finish']]\n",
    "# смотрим что получилось\n",
    "a.info()"
   ]
  },
  {
   "cell_type": "code",
   "execution_count": 10,
   "metadata": {},
   "outputs": [
    {
     "data": {
      "text/plain": [
       "0 days 00:00:00    8015\n",
       "0 days 04:15:14       3\n",
       "0 days 02:27:51       3\n",
       "0 days 02:39:52       2\n",
       "0 days 09:45:21       2\n",
       "                   ... \n",
       "0 days 00:50:48       1\n",
       "0 days 07:23:28       1\n",
       "0 days 07:24:08       1\n",
       "0 days 00:47:37       1\n",
       "0 days 16:22:48       1\n",
       "Name: check, Length: 2193, dtype: int64"
      ]
     },
     "execution_count": 10,
     "metadata": {},
     "output_type": "execute_result"
    }
   ],
   "source": [
    "# проверка\n",
    "a['check'] = a['max_tutorial_finish'] - a['min_tutorial_finish']\n",
    "a['check'].value_counts() # ok 8015 passed tutorial only once"
   ]
  },
  {
   "cell_type": "markdown",
   "metadata": {},
   "source": [
    "### Построим 3 графика воронки:\n",
    "1. Для всех пользователей \n",
    "2. Для пользователей которые прошли туториал\n",
    "3. Для пользователей которые НЕ прошли туториал"
   ]
  },
  {
   "cell_type": "code",
   "execution_count": 11,
   "metadata": {},
   "outputs": [],
   "source": [
    "# data for funnel chart: total\n",
    "total = a.iloc[:,1:7].count()\n",
    "\n",
    "complete_df_pivot = a[a[\"user_id_\"].isin(set_complete)].copy()\n",
    "# data for funnel chart: users who completed tutorial\n",
    "complete = complete_df_pivot.iloc[:,1:7].count()\n",
    "\n",
    "not_complete_df_pivot = a[a[\"user_id_\"].isin(set_not_complete)].copy()\n",
    "# data for funnel chart: users who did NOT complete tutorial\n",
    "not_complete = not_complete_df_pivot.iloc[:,1:7].count()"
   ]
  },
  {
   "cell_type": "code",
   "execution_count": 12,
   "metadata": {},
   "outputs": [
    {
     "name": "stdout",
     "output_type": "stream",
     "text": [
      "ok\n"
     ]
    },
    {
     "data": {
      "image/png": "[encoded data removed]",
      "text/plain": [
       "<Figure size 432x288 with 1 Axes>"
      ]
     },
     "metadata": {
      "needs_background": "light"
     },
     "output_type": "display_data"
    },
    {
     "data": {
      "image/png": "[encoded data removed]",
      "text/plain": [
       "<Figure size 432x288 with 1 Axes>"
      ]
     },
     "metadata": {
      "needs_background": "light"
     },
     "output_type": "display_data"
    },
    {
     "data": {
      "image/png": "[encoded data removed]",
      "text/plain": [
       "<Figure size 432x288 with 1 Axes>"
      ]
     },
     "metadata": {
      "needs_background": "light"
     },
     "output_type": "display_data"
    }
   ],
   "source": [
    "funnel_chart(total, False, 19926, True, 'of whole', 'ALL')\n",
    "funnel_chart(complete, True, 19926, True, 'of whole', 'complete_tutorial')\n",
    "funnel_chart(not_complete, True, 19926, True, 'of whole', 'NOT_complete_tutorial')\n",
    "print('ok')"
   ]
  },
  {
   "cell_type": "code",
   "execution_count": 13,
   "metadata": {},
   "outputs": [
    {
     "data": {
      "text/html": [
       "<div>\n",
       "<style scoped>\n",
       "    .dataframe tbody tr th:only-of-type {\n",
       "        vertical-align: middle;\n",
       "    }\n",
       "\n",
       "    .dataframe tbody tr th {\n",
       "        vertical-align: top;\n",
       "    }\n",
       "\n",
       "    .dataframe thead th {\n",
       "        text-align: right;\n",
       "    }\n",
       "</style>\n",
       "<table border=\"1\" class=\"dataframe\">\n",
       "  <thead>\n",
       "    <tr style=\"text-align: right;\">\n",
       "      <th></th>\n",
       "      <th>total</th>\n",
       "      <th>complete</th>\n",
       "      <th>not_complete</th>\n",
       "    </tr>\n",
       "  </thead>\n",
       "  <tbody>\n",
       "    <tr>\n",
       "      <th>registration</th>\n",
       "      <td>19926</td>\n",
       "      <td>10250</td>\n",
       "      <td>9676</td>\n",
       "    </tr>\n",
       "    <tr>\n",
       "      <th>tut_start</th>\n",
       "      <td>11858</td>\n",
       "      <td>10250</td>\n",
       "      <td>1608</td>\n",
       "    </tr>\n",
       "    <tr>\n",
       "      <th>tut_finish</th>\n",
       "      <td>10250</td>\n",
       "      <td>10250</td>\n",
       "      <td>0</td>\n",
       "    </tr>\n",
       "    <tr>\n",
       "      <th>lvl_choice</th>\n",
       "      <td>8342</td>\n",
       "      <td>7501</td>\n",
       "      <td>841</td>\n",
       "    </tr>\n",
       "    <tr>\n",
       "      <th>pack_choice</th>\n",
       "      <td>5737</td>\n",
       "      <td>5176</td>\n",
       "      <td>561</td>\n",
       "    </tr>\n",
       "    <tr>\n",
       "      <th>purchase</th>\n",
       "      <td>1600</td>\n",
       "      <td>1447</td>\n",
       "      <td>153</td>\n",
       "    </tr>\n",
       "  </tbody>\n",
       "</table>\n",
       "</div>"
      ],
      "text/plain": [
       "              total  complete  not_complete\n",
       "registration  19926     10250          9676\n",
       "tut_start     11858     10250          1608\n",
       "tut_finish    10250     10250             0\n",
       "lvl_choice     8342      7501           841\n",
       "pack_choice    5737      5176           561\n",
       "purchase       1600      1447           153"
      ]
     },
     "execution_count": 13,
     "metadata": {},
     "output_type": "execute_result"
    }
   ],
   "source": [
    "# соберем все данные в таблицу\n",
    "total = total.to_frame()\n",
    "total[1] = complete\n",
    "total[2] = not_complete\n",
    "total.columns = ['total','complete', 'not_complete']\n",
    "total.index = ['registration','tut_start', 'tut_finish', 'lvl_choice', 'pack_choice', 'purchase']\n",
    "total"
   ]
  },
  {
   "cell_type": "markdown",
   "metadata": {},
   "source": [
    "### Промежуточные выводы: анализ воронки\n",
    "1. всего в 2018 году зарегистрировалось 19926 пользователей, из них 8% совершили покупку\n",
    "2. из всех пользователей 51% завершили туториал, из них 14% совершили покупку - то есть они совершили 90% всех покупок\n",
    "3. из всех пользователей 49% не завершили туториал, из них всего 2% совершили покупку\n",
    "4. 4% пользователей начали но не завершили туториал"
   ]
  },
  {
   "cell_type": "markdown",
   "metadata": {},
   "source": [
    "## 1.3. Теперь считаем timedelta"
   ]
  },
  {
   "cell_type": "code",
   "execution_count": 14,
   "metadata": {},
   "outputs": [],
   "source": [
    "# function to substract previous column from choosen column\n",
    "def substract_prev_column(df,col_nr):\n",
    "    x = df.iloc[:,(col_nr)] - df.iloc[:,(col_nr-1)]\n",
    "    x = x.to_frame()\n",
    "    return x"
   ]
  },
  {
   "cell_type": "code",
   "execution_count": 15,
   "metadata": {},
   "outputs": [],
   "source": [
    "# function to make timedelta df\n",
    "def calc_timedelta(df):\n",
    "    timedelta_df = df['user_id_'].to_frame()\n",
    "    for i in range(2,len(list(df))-2):\n",
    "        timedelta_df[i] = df.iloc[:,(i)] - df.iloc[:,1] #substract_prev_column(df,i)\n",
    "    timedelta_df.columns = ['user_id_', 'registration-tutorial_start','registration-tutorial_finish',\n",
    "                            'registration-level_choice', 'registration-pack_choice', 'registration-purchase']\n",
    "    #timedelta_df.columns = ['user_id_', 'reg_tut_st_min', 'tut_st_min_fin_max', 'tut_fin_max_lvl', 'lvl_pack', 'pack_pur']\n",
    "    return timedelta_df"
   ]
  },
  {
   "cell_type": "code",
   "execution_count": 16,
   "metadata": {},
   "outputs": [
    {
     "name": "stdout",
     "output_type": "stream",
     "text": [
      "<class 'pandas.core.frame.DataFrame'>\n",
      "Int64Index: 10250 entries, 1 to 19924\n",
      "Data columns (total 6 columns):\n",
      " #   Column                        Non-Null Count  Dtype          \n",
      "---  ------                        --------------  -----          \n",
      " 0   user_id_                      10250 non-null  int64          \n",
      " 1   registration-tutorial_start   10250 non-null  timedelta64[ns]\n",
      " 2   registration-tutorial_finish  10250 non-null  timedelta64[ns]\n",
      " 3   registration-level_choice     7501 non-null   timedelta64[ns]\n",
      " 4   registration-pack_choice      5176 non-null   timedelta64[ns]\n",
      " 5   registration-purchase         1447 non-null   timedelta64[ns]\n",
      "dtypes: int64(1), timedelta64[ns](5)\n",
      "memory usage: 560.5 KB\n"
     ]
    }
   ],
   "source": [
    "# упорядочить колонки \n",
    "complete_df_pivot = complete_df_pivot[['user_id_', 'min_registration','min_tutorial_start', 'min_tutorial_finish', \n",
    "       'min_level_choice', 'min_pack_choice', 'min_purchase','max_tutorial_start','max_tutorial_finish' ]]\n",
    "# calculate timedelta\n",
    "complete_timedelta = calc_timedelta(complete_df_pivot)\n",
    "complete_timedelta.info() # ok"
   ]
  },
  {
   "cell_type": "code",
   "execution_count": 17,
   "metadata": {},
   "outputs": [],
   "source": [
    "# упорядочить колонки \n",
    "not_complete_df_pivot = not_complete_df_pivot[['user_id_', 'min_registration','min_tutorial_start', \n",
    "                                               'min_tutorial_finish', 'min_level_choice', \n",
    "                                               'min_pack_choice', 'min_purchase','max_tutorial_start',\n",
    "                                               'max_tutorial_finish' ]]\n",
    "# calculate timedelta\n",
    "not_complete_timedelta = calc_timedelta(not_complete_df_pivot)\n",
    "#not_complete_timedelta.info() # ok"
   ]
  },
  {
   "cell_type": "code",
   "execution_count": 18,
   "metadata": {},
   "outputs": [],
   "source": [
    "# соберем все данные в таблицу\n",
    "result = complete_timedelta.iloc[:,1:].mean().to_frame()\n",
    "result[1] = (result[0] / np.timedelta64(1, 'h')).round(2)\n",
    "result[2] = not_complete_timedelta.iloc[:,1:].mean().to_frame()\n",
    "result[3] = (result[2] / np.timedelta64(1, 'h')).round(2)\n",
    "result.columns = ['complete_timedelta_mean', 'hours_1', 'not_complete_timedelta_mean' , 'hours_2']\n",
    "result['who_is_faster'] = np.where(result['hours_1']>result['hours_2'], 'who_did_NOT_complete', 'who_completed')\n",
    "result.index.name = 'steps'\n",
    "result.reset_index(level=0, inplace=True)"
   ]
  },
  {
   "cell_type": "markdown",
   "metadata": {},
   "source": [
    "**Построим столбчатую диаграмму для двух групп**"
   ]
  },
  {
   "cell_type": "code",
   "execution_count": 19,
   "metadata": {},
   "outputs": [
    {
     "data": {
      "text/html": [
       "<div>\n",
       "<style scoped>\n",
       "    .dataframe tbody tr th:only-of-type {\n",
       "        vertical-align: middle;\n",
       "    }\n",
       "\n",
       "    .dataframe tbody tr th {\n",
       "        vertical-align: top;\n",
       "    }\n",
       "\n",
       "    .dataframe thead th {\n",
       "        text-align: right;\n",
       "    }\n",
       "</style>\n",
       "<table border=\"1\" class=\"dataframe\">\n",
       "  <thead>\n",
       "    <tr style=\"text-align: right;\">\n",
       "      <th></th>\n",
       "      <th>steps</th>\n",
       "      <th>complete_timedelta_mean</th>\n",
       "      <th>hours_1</th>\n",
       "      <th>not_complete_timedelta_mean</th>\n",
       "      <th>hours_2</th>\n",
       "      <th>who_is_faster</th>\n",
       "    </tr>\n",
       "  </thead>\n",
       "  <tbody>\n",
       "    <tr>\n",
       "      <th>0</th>\n",
       "      <td>registration-tutorial_start</td>\n",
       "      <td>0 days 04:31:04.938146341</td>\n",
       "      <td>4.52</td>\n",
       "      <td>0 days 05:25:02.892412935</td>\n",
       "      <td>5.42</td>\n",
       "      <td>who_completed</td>\n",
       "    </tr>\n",
       "    <tr>\n",
       "      <th>1</th>\n",
       "      <td>registration-tutorial_finish</td>\n",
       "      <td>0 days 04:43:18.761268292</td>\n",
       "      <td>4.72</td>\n",
       "      <td>NaT</td>\n",
       "      <td>NaN</td>\n",
       "      <td>who_completed</td>\n",
       "    </tr>\n",
       "    <tr>\n",
       "      <th>2</th>\n",
       "      <td>registration-level_choice</td>\n",
       "      <td>0 days 07:05:36.854819357</td>\n",
       "      <td>7.09</td>\n",
       "      <td>0 days 07:52:17.178359096</td>\n",
       "      <td>7.87</td>\n",
       "      <td>who_completed</td>\n",
       "    </tr>\n",
       "    <tr>\n",
       "      <th>3</th>\n",
       "      <td>registration-pack_choice</td>\n",
       "      <td>0 days 07:10:35.660162287</td>\n",
       "      <td>7.18</td>\n",
       "      <td>0 days 07:56:46.937611408</td>\n",
       "      <td>7.95</td>\n",
       "      <td>who_completed</td>\n",
       "    </tr>\n",
       "    <tr>\n",
       "      <th>4</th>\n",
       "      <td>registration-purchase</td>\n",
       "      <td>4 days 00:30:03.247408431</td>\n",
       "      <td>96.50</td>\n",
       "      <td>4 days 06:03:32.111111111</td>\n",
       "      <td>102.06</td>\n",
       "      <td>who_completed</td>\n",
       "    </tr>\n",
       "  </tbody>\n",
       "</table>\n",
       "</div>"
      ],
      "text/plain": [
       "                          steps   complete_timedelta_mean  hours_1  \\\n",
       "0   registration-tutorial_start 0 days 04:31:04.938146341     4.52   \n",
       "1  registration-tutorial_finish 0 days 04:43:18.761268292     4.72   \n",
       "2     registration-level_choice 0 days 07:05:36.854819357     7.09   \n",
       "3      registration-pack_choice 0 days 07:10:35.660162287     7.18   \n",
       "4         registration-purchase 4 days 00:30:03.247408431    96.50   \n",
       "\n",
       "  not_complete_timedelta_mean  hours_2  who_is_faster  \n",
       "0   0 days 05:25:02.892412935     5.42  who_completed  \n",
       "1                         NaT      NaN  who_completed  \n",
       "2   0 days 07:52:17.178359096     7.87  who_completed  \n",
       "3   0 days 07:56:46.937611408     7.95  who_completed  \n",
       "4   4 days 06:03:32.111111111   102.06  who_completed  "
      ]
     },
     "metadata": {},
     "output_type": "display_data"
    },
    {
     "data": {
      "image/png": "[encoded data removed]",
      "text/plain": [
       "<Figure size 576x288 with 1 Axes>"
      ]
     },
     "metadata": {
      "needs_background": "light"
     },
     "output_type": "display_data"
    }
   ],
   "source": [
    "# create data\n",
    "x = np.arange(5)\n",
    "y1 = result['hours_1']\n",
    "y2 = result['hours_2']\n",
    "width = 0.40\n",
    "#визуализация главного графика\n",
    "fig = plt.figure(figsize=(8, 4))\n",
    "main_axes = fig.add_axes([0, 0, 1, 1])\n",
    "# plot data in grouped manner of bar type\n",
    "main_axes.bar(x-0.2, y1, width)\n",
    "main_axes.bar(x+0.2, y2, width)\n",
    "#установка параметров отображения\n",
    "main_axes.set_title('Timedelta between registration and following steps for two groups', fontsize=16)\n",
    "main_axes.set_xlabel('Steps', fontsize=12)\n",
    "main_axes.set_ylabel('Hours', fontsize=12)\n",
    "#main_axes.set_yticks(range(0, 100000, 10000))\n",
    "#main_axes.xaxis.set_tick_params(rotation=30)\n",
    "main_axes.grid()\n",
    "#main_axes.set_yscale('log')\n",
    "main_axes.legend(['who_completed_tutorial', 'who_did_not_complete_tutorial'],fontsize=12)\n",
    "#добавить аннотацию\n",
    "for i in range(len(result['hours_1'])):\n",
    "    main_axes.annotate(str(result['hours_1'][i]),xy=[(i-0.3),12],horizontalalignment='left')\n",
    "    main_axes.annotate(str(result['hours_2'][i]),xy=[(i+0.35),12],horizontalalignment='right')\n",
    "    main_axes.annotate(str(result['steps'][i]),xy=[(i-0.1),(20)],horizontalalignment='center',rotation=90)\n",
    "# показать таблицу с данными\n",
    "display(result)"
   ]
  },
  {
   "cell_type": "markdown",
   "metadata": {},
   "source": [
    "### Промежуточные выводы: влияет ли обучение на скорость прохождения других этапов игры?\n",
    "\n",
    "**Результаты:**\n",
    "\n",
    "тем, кто не прошел туториал в целом требуется больше времени чтобы перейти от одного шага к следующему"
   ]
  },
  {
   "cell_type": "markdown",
   "metadata": {},
   "source": [
    "## 1.4. Проверка Гипотезы 1\n",
    "#### Гипотеза:\n",
    "\"По идее, должна быть разница в поведении групп, которые проходят и не проходят обучение. Влияет ли обучение на скорость прохождения других этапов игры?\"\n",
    "\n",
    "#### Выводы:\n",
    "Да, в поведении групп есть разница. Те, кто прошел обучение (а это половина от всех пользователей):\n",
    "1. с большей вероятностью совершат покупку (14,11% от группы прошедших против 1,56% от группы не прошедших обучение),\n",
    "2. быстрее совершат покупку (в среднем от регистрации до покупки проходит 96,5 часов против 102,0).\n"
   ]
  },
  {
   "cell_type": "markdown",
   "metadata": {},
   "source": [
    "---"
   ]
  },
  {
   "cell_type": "markdown",
   "metadata": {},
   "source": [
    "# 2. Проверка Гипотезы 2\n",
    "Кажется, повторное прохождение обучения положительно влияет на оплату, верно?"
   ]
  },
  {
   "cell_type": "markdown",
   "metadata": {},
   "source": [
    "## 2.1. Разделим на группы\n",
    "По количеству завершенных туториалов - получится 9 групп. \n"
   ]
  },
  {
   "cell_type": "code",
   "execution_count": 20,
   "metadata": {},
   "outputs": [
    {
     "data": {
      "text/plain": [
       "1    8015\n",
       "2    1321\n",
       "3     345\n",
       "4     178\n",
       "5     117\n",
       "6     101\n",
       "7      97\n",
       "8      54\n",
       "9      22\n",
       "Name: start_time, dtype: int64"
      ]
     },
     "execution_count": 20,
     "metadata": {},
     "output_type": "execute_result"
    }
   ],
   "source": [
    "complete_tutorial_df.groupby('user_id')['start_time'].count().value_counts() \n",
    "# 22 человека прошли туториал 9 раз"
   ]
  },
  {
   "cell_type": "code",
   "execution_count": 21,
   "metadata": {},
   "outputs": [],
   "source": [
    "# сделаем таблицу в которой посчитаем количество завершенных туториалов на пользователя\n",
    "f = complete_tutorial_df.groupby('user_id')['start_time'].count()\n",
    "f = f.to_frame()\n",
    "f = f.reset_index()\n",
    "f.columns = ['user_id_', 'tutorial_counts']"
   ]
  },
  {
   "cell_type": "markdown",
   "metadata": {},
   "source": [
    "## 2.2. Считаем сколько человек продвинулось на следующие шаги после завершения туториала в каждой из 9 групп\n"
   ]
  },
  {
   "cell_type": "code",
   "execution_count": 22,
   "metadata": {},
   "outputs": [
    {
     "name": "stderr",
     "output_type": "stream",
     "text": [
      "C:\\Users\\Yana\\AppData\\Local\\Temp/ipykernel_5836/1573102315.py:2: FutureWarning: In a future version of pandas all arguments of DataFrame.drop except for the argument 'labels' will be keyword-only\n",
      "  complete_timedelta = complete_timedelta.drop('registration-tutorial_start',1)\n"
     ]
    }
   ],
   "source": [
    "# Уберем лишние колонки\n",
    "complete_timedelta = complete_timedelta.drop('registration-tutorial_start',1)"
   ]
  },
  {
   "cell_type": "code",
   "execution_count": 23,
   "metadata": {},
   "outputs": [],
   "source": [
    "# добавим колонку с количеством пройденных туториалов\n",
    "complete_timedelta_tut_fin = pd.merge(complete_timedelta, f, how='inner', on='user_id_')"
   ]
  },
  {
   "cell_type": "code",
   "execution_count": 24,
   "metadata": {},
   "outputs": [],
   "source": [
    "def groupcounter(df,column):\n",
    "    a = df.groupby('tutorial_counts')[column].count()\n",
    "    return a"
   ]
  },
  {
   "cell_type": "code",
   "execution_count": 25,
   "metadata": {},
   "outputs": [],
   "source": [
    "# создадим таблицу с количеством человек на каждом шаге для 9 групп\n",
    "#ind_lst = [1,2,3,4,5,6,7,8,9]\n",
    "hyp2_count = pd.DataFrame({\n",
    "        #'steps': ind_lst,\n",
    "        'registration-tutorial_finish': groupcounter(complete_timedelta_tut_fin, 'registration-tutorial_finish'),\n",
    "        'registration-level_choice': groupcounter(complete_timedelta_tut_fin, 'registration-level_choice'),\n",
    "        'registration-pack_choice': groupcounter(complete_timedelta_tut_fin, 'registration-pack_choice'),\n",
    "        'registration-purchase': groupcounter(complete_timedelta_tut_fin, 'registration-purchase'),\n",
    "                   })"
   ]
  },
  {
   "cell_type": "code",
   "execution_count": 26,
   "metadata": {},
   "outputs": [],
   "source": [
    "# пересчитаем количество в проценты\n",
    "hyp2_percent = hyp2_count.transpose()\n",
    "\n",
    "for i in range(1,10):\n",
    "    colmax = hyp2_percent[i].max()\n",
    "    hyp2_percent[i] = round((hyp2_percent[i]/colmax*100),2)"
   ]
  },
  {
   "cell_type": "markdown",
   "metadata": {},
   "source": [
    "Построим график"
   ]
  },
  {
   "cell_type": "code",
   "execution_count": 27,
   "metadata": {},
   "outputs": [
    {
     "data": {
      "text/html": [
       "<div>\n",
       "<style scoped>\n",
       "    .dataframe tbody tr th:only-of-type {\n",
       "        vertical-align: middle;\n",
       "    }\n",
       "\n",
       "    .dataframe tbody tr th {\n",
       "        vertical-align: top;\n",
       "    }\n",
       "\n",
       "    .dataframe thead th {\n",
       "        text-align: right;\n",
       "    }\n",
       "</style>\n",
       "<table border=\"1\" class=\"dataframe\">\n",
       "  <thead>\n",
       "    <tr style=\"text-align: right;\">\n",
       "      <th>tutorial_counts</th>\n",
       "      <th>1</th>\n",
       "      <th>2</th>\n",
       "      <th>3</th>\n",
       "      <th>4</th>\n",
       "      <th>5</th>\n",
       "      <th>6</th>\n",
       "      <th>7</th>\n",
       "      <th>8</th>\n",
       "      <th>9</th>\n",
       "      <th>average</th>\n",
       "    </tr>\n",
       "  </thead>\n",
       "  <tbody>\n",
       "    <tr>\n",
       "      <th>registration-level_choice</th>\n",
       "      <td>73.85</td>\n",
       "      <td>70.63</td>\n",
       "      <td>68.12</td>\n",
       "      <td>67.98</td>\n",
       "      <td>74.36</td>\n",
       "      <td>73.27</td>\n",
       "      <td>78.35</td>\n",
       "      <td>74.07</td>\n",
       "      <td>72.73</td>\n",
       "      <td>72.60</td>\n",
       "    </tr>\n",
       "    <tr>\n",
       "      <th>registration-pack_choice</th>\n",
       "      <td>51.18</td>\n",
       "      <td>48.75</td>\n",
       "      <td>44.06</td>\n",
       "      <td>39.33</td>\n",
       "      <td>52.99</td>\n",
       "      <td>48.51</td>\n",
       "      <td>57.73</td>\n",
       "      <td>51.85</td>\n",
       "      <td>59.09</td>\n",
       "      <td>50.39</td>\n",
       "    </tr>\n",
       "    <tr>\n",
       "      <th>registration-purchase</th>\n",
       "      <td>14.26</td>\n",
       "      <td>13.78</td>\n",
       "      <td>12.75</td>\n",
       "      <td>10.67</td>\n",
       "      <td>16.24</td>\n",
       "      <td>14.85</td>\n",
       "      <td>15.46</td>\n",
       "      <td>11.11</td>\n",
       "      <td>18.18</td>\n",
       "      <td>14.14</td>\n",
       "    </tr>\n",
       "  </tbody>\n",
       "</table>\n",
       "</div>"
      ],
      "text/plain": [
       "tutorial_counts                1      2      3      4      5      6      7  \\\n",
       "registration-level_choice  73.85  70.63  68.12  67.98  74.36  73.27  78.35   \n",
       "registration-pack_choice   51.18  48.75  44.06  39.33  52.99  48.51  57.73   \n",
       "registration-purchase      14.26  13.78  12.75  10.67  16.24  14.85  15.46   \n",
       "\n",
       "tutorial_counts                8      9  average  \n",
       "registration-level_choice  74.07  72.73    72.60  \n",
       "registration-pack_choice   51.85  59.09    50.39  \n",
       "registration-purchase      11.11  18.18    14.14  "
      ]
     },
     "execution_count": 27,
     "metadata": {},
     "output_type": "execute_result"
    },
    {
     "data": {
      "image/png": "[encoded data removed]",
      "text/plain": [
       "<Figure size 576x288 with 1 Axes>"
      ]
     },
     "metadata": {
      "needs_background": "light"
     },
     "output_type": "display_data"
    }
   ],
   "source": [
    "# create data\n",
    "x = hyp2_percent.transpose().index[:]\n",
    "y1 = hyp2_percent.transpose()['registration-purchase'][:]\n",
    "#визуализация главного графика\n",
    "fig = plt.figure(figsize=(8, 4))\n",
    "main_axes = fig.add_axes([0, 0, 1, 1])\n",
    "# plot data in grouped manner of bar type\n",
    "main_axes.bar(x, y1)\n",
    "#установка параметров отображения\n",
    "main_axes.set_xticks(np.arange(len(x)+1))\n",
    "main_axes.set_title('Процент покупок в завимисости от количества прохождений туториала', fontsize=16)\n",
    "main_axes.set_xlabel('Количество прохождений туториала', fontsize=12)\n",
    "main_axes.set_ylabel('Процент покупок', fontsize=12)\n",
    "#main_axes.set_yticks(range(0, 100000, 10000))\n",
    "#main_axes.xaxis.set_tick_params(rotation=30)\n",
    "main_axes.grid()\n",
    "#main_axes.set_yscale('log')\n",
    "#main_axes.legend(['who_completed_tutorial', 'who_did_not_complete_tutorial'],fontsize=12)\n",
    "# покажем таблицу с результатами\n",
    "hyp2_percent['average'] = hyp2_percent.mean(axis=1).round(2)\n",
    "hyp2_percent.iloc[1: , :]"
   ]
  },
  {
   "cell_type": "markdown",
   "metadata": {},
   "source": [
    "### Промежуточные выводы:\n",
    "Процент покупателей в среднем равен проценту покупателей в группе 1 (те, кто прошел туториал 1 раз): 14%\n",
    "\n",
    "Самый лучший результат 18% - у группы 9\n",
    "\n",
    "Самый худщий результат 11% - у групп 4 и 8\n",
    "\n",
    "Тренд не наблюдается"
   ]
  },
  {
   "cell_type": "markdown",
   "metadata": {},
   "source": [
    "## 2.3. Считаем таймдельту для 9 групп"
   ]
  },
  {
   "cell_type": "code",
   "execution_count": 28,
   "metadata": {},
   "outputs": [],
   "source": [
    "def groupmean(df,column):\n",
    "    a = df.groupby('tutorial_counts')[column].mean() / np.timedelta64(1, 'h')\n",
    "    return a"
   ]
  },
  {
   "cell_type": "code",
   "execution_count": 29,
   "metadata": {},
   "outputs": [],
   "source": [
    "#ind_lst = [1,2,3,4,5,6,7,8,9]\n",
    "hyp2_mean = pd.DataFrame({\n",
    "        #'steps': ind_lst,\n",
    "        'registration-tutorial_finish': groupmean(complete_timedelta_tut_fin, 'registration-tutorial_finish'),\n",
    "        'registration-level_choice': groupmean(complete_timedelta_tut_fin, 'registration-level_choice'),\n",
    "        'registration-pack_choice': groupmean(complete_timedelta_tut_fin, 'registration-pack_choice'),\n",
    "        'registration-purchase': groupmean(complete_timedelta_tut_fin, 'registration-purchase'),\n",
    "                   })\n",
    "hyp2_mean = hyp2_mean.transpose().round(2)"
   ]
  },
  {
   "cell_type": "markdown",
   "metadata": {},
   "source": [
    "Построим графики"
   ]
  },
  {
   "cell_type": "code",
   "execution_count": 30,
   "metadata": {},
   "outputs": [
    {
     "data": {
      "text/html": [
       "<div>\n",
       "<style scoped>\n",
       "    .dataframe tbody tr th:only-of-type {\n",
       "        vertical-align: middle;\n",
       "    }\n",
       "\n",
       "    .dataframe tbody tr th {\n",
       "        vertical-align: top;\n",
       "    }\n",
       "\n",
       "    .dataframe thead th {\n",
       "        text-align: right;\n",
       "    }\n",
       "</style>\n",
       "<table border=\"1\" class=\"dataframe\">\n",
       "  <thead>\n",
       "    <tr style=\"text-align: right;\">\n",
       "      <th>tutorial_counts</th>\n",
       "      <th>1</th>\n",
       "      <th>2</th>\n",
       "      <th>3</th>\n",
       "      <th>4</th>\n",
       "      <th>5</th>\n",
       "      <th>6</th>\n",
       "      <th>7</th>\n",
       "      <th>8</th>\n",
       "      <th>9</th>\n",
       "      <th>average</th>\n",
       "    </tr>\n",
       "  </thead>\n",
       "  <tbody>\n",
       "    <tr>\n",
       "      <th>registration-tutorial_finish</th>\n",
       "      <td>5.36</td>\n",
       "      <td>3.04</td>\n",
       "      <td>1.97</td>\n",
       "      <td>1.60</td>\n",
       "      <td>1.40</td>\n",
       "      <td>1.11</td>\n",
       "      <td>0.99</td>\n",
       "      <td>0.81</td>\n",
       "      <td>0.76</td>\n",
       "      <td>1.89</td>\n",
       "    </tr>\n",
       "    <tr>\n",
       "      <th>registration-level_choice</th>\n",
       "      <td>7.71</td>\n",
       "      <td>5.42</td>\n",
       "      <td>4.48</td>\n",
       "      <td>3.82</td>\n",
       "      <td>3.91</td>\n",
       "      <td>3.45</td>\n",
       "      <td>3.34</td>\n",
       "      <td>3.13</td>\n",
       "      <td>2.86</td>\n",
       "      <td>4.24</td>\n",
       "    </tr>\n",
       "    <tr>\n",
       "      <th>registration-pack_choice</th>\n",
       "      <td>7.78</td>\n",
       "      <td>5.50</td>\n",
       "      <td>4.52</td>\n",
       "      <td>3.51</td>\n",
       "      <td>4.20</td>\n",
       "      <td>3.59</td>\n",
       "      <td>3.36</td>\n",
       "      <td>3.42</td>\n",
       "      <td>2.94</td>\n",
       "      <td>4.31</td>\n",
       "    </tr>\n",
       "    <tr>\n",
       "      <th>registration-purchase</th>\n",
       "      <td>96.60</td>\n",
       "      <td>95.91</td>\n",
       "      <td>96.37</td>\n",
       "      <td>89.38</td>\n",
       "      <td>102.89</td>\n",
       "      <td>85.56</td>\n",
       "      <td>107.90</td>\n",
       "      <td>78.07</td>\n",
       "      <td>125.08</td>\n",
       "      <td>97.53</td>\n",
       "    </tr>\n",
       "  </tbody>\n",
       "</table>\n",
       "</div>"
      ],
      "text/plain": [
       "tutorial_counts                   1      2      3      4       5      6  \\\n",
       "registration-tutorial_finish   5.36   3.04   1.97   1.60    1.40   1.11   \n",
       "registration-level_choice      7.71   5.42   4.48   3.82    3.91   3.45   \n",
       "registration-pack_choice       7.78   5.50   4.52   3.51    4.20   3.59   \n",
       "registration-purchase         96.60  95.91  96.37  89.38  102.89  85.56   \n",
       "\n",
       "tutorial_counts                    7      8       9  average  \n",
       "registration-tutorial_finish    0.99   0.81    0.76     1.89  \n",
       "registration-level_choice       3.34   3.13    2.86     4.24  \n",
       "registration-pack_choice        3.36   3.42    2.94     4.31  \n",
       "registration-purchase         107.90  78.07  125.08    97.53  "
      ]
     },
     "execution_count": 30,
     "metadata": {},
     "output_type": "execute_result"
    },
    {
     "data": {
      "image/png": "[encoded data removed]",
      "text/plain": [
       "<Figure size 720x288 with 2 Axes>"
      ]
     },
     "metadata": {
      "needs_background": "light"
     },
     "output_type": "display_data"
    }
   ],
   "source": [
    "# plot lines\n",
    "fig = plt.figure(figsize=(10, 4))\n",
    "\n",
    "x = hyp2_mean.transpose().index[:]\n",
    " \n",
    "plt.subplot(1,2, 1) \n",
    "# plot lines\n",
    "y = hyp2_mean.transpose()['registration-tutorial_finish'][:]\n",
    "plt.plot(x, y, label = \"tutorial_finish\")\n",
    "y = hyp2_mean.transpose()['registration-level_choice'][:]\n",
    "plt.plot(x, y, label = \"level_choice\")\n",
    "y = hyp2_mean.transpose()['registration-pack_choice'][:]\n",
    "plt.plot(x, y, label = \"pack_choice\")\n",
    "plt.legend()\n",
    "plt.grid()\n",
    "plt.xlabel('Group', fontsize=14)\n",
    "plt.ylabel('Hours', fontsize=14)\n",
    "\n",
    "plt.subplot(1,2, 2) \n",
    "y = hyp2_mean.transpose()['registration-purchase'][:]\n",
    "plt.plot(x, y, label = \"purchase\")\n",
    "\n",
    "fig.tight_layout(pad=3.0)\n",
    "\n",
    "plt.legend()\n",
    "plt.grid()\n",
    "plt.xlabel('Group', fontsize=14)\n",
    "plt.ylabel('Hours', fontsize=14)\n",
    "\n",
    "# покажем таблицу\n",
    "hyp2_mean['average'] = hyp2_mean.mean(axis=1).round(2)\n",
    "hyp2_mean\n"
   ]
  },
  {
   "cell_type": "markdown",
   "metadata": {},
   "source": [
    "### Промежуточные выводы:\n",
    "Время от регистрации до покупки не сильно меняется от группы 1 до группы 3, но потом начинает меняться скачкообразно с увеличением амплитуды. Среднее значение на 1 час больше времения для группы 1. Для четных групп (те, кто прошел туториал четное количество раз) время от регистрации до покупки уменьшается. Для нечетных групп время до покупки увеличивается.\n",
    "\n",
    "Интересно что время от регистрации до событий первого прохождения туториала (min_tutorial_finish), выбора уровня (level_choice) и выбора бесплатных вопросов (pack_choice) плавно уменьшается от группы 1 до группы 9. Как можно объяснить подобное поведение? Еще более странно то, что время от регистрации до покупки (purchase) меняется скачкообразно."
   ]
  },
  {
   "cell_type": "markdown",
   "metadata": {},
   "source": [
    "## 2.4. Проверка Гипотезы 2\n",
    "**Гипотеза**\n",
    "\n",
    "Кажется, повторное прохождение обучения положительно влияет на оплату, верно?\n",
    "\n",
    "**Выводы**\n",
    "\n",
    "    1. Повторное прохождение туторила не увеличивает процент совершенных покупок. \n",
    "    2. Время от регистрации до покупки изменяется скачкообразно, такое поведение вряд ли нормально, имеет смысл проверить данные. \n",
    "\n",
    "Но если все верно, то при таких результатах не стоит продвигать множественное прохождение туториала."
   ]
  },
  {
   "cell_type": "markdown",
   "metadata": {},
   "source": [
    "---"
   ]
  },
  {
   "cell_type": "markdown",
   "metadata": {},
   "source": [
    "# 3. Проверка Гипотезы 3\n",
    "Если пользователь сначала выбирает сложность обучения, будет ли он потом проходить обучение?"
   ]
  },
  {
   "cell_type": "markdown",
   "metadata": {},
   "source": [
    "## 3.1. Считаем таймдельту\n",
    "надо посчитать таймдельту между выбором сложности обучения (level_choice) и первым стартом обучения (min_tutorial_start), для тех, кто сначала выбрал сложность а потом начал обучение, эта таймдельта будет отрицательной"
   ]
  },
  {
   "cell_type": "code",
   "execution_count": 31,
   "metadata": {},
   "outputs": [],
   "source": [
    "a['check'] = a['min_level_choice'] - a['min_tutorial_start']"
   ]
  },
  {
   "cell_type": "code",
   "execution_count": 32,
   "metadata": {},
   "outputs": [
    {
     "data": {
      "text/plain": [
       "0"
      ]
     },
     "execution_count": 32,
     "metadata": {},
     "output_type": "execute_result"
    }
   ],
   "source": [
    "# установим ноль\n",
    "ziro = pd.Timedelta(0)\n",
    "# список тех пользователей, для кого таймдельта отрицательна\n",
    "mask = a['check'] < ziro\n",
    "len(a[mask]['user_id_']) "
   ]
  },
  {
   "cell_type": "code",
   "execution_count": 33,
   "metadata": {},
   "outputs": [
    {
     "data": {
      "text/plain": [
       "1386"
      ]
     },
     "execution_count": 33,
     "metadata": {},
     "output_type": "execute_result"
    }
   ],
   "source": [
    "# проверка \n",
    "a['check2'] = a['min_level_choice'] - a['max_tutorial_start']\n",
    "# список тех, кто прошел туториал повторно после выбора уровня\n",
    "mask = a['check2'] < ziro\n",
    "len(a[mask]['user_id_']) "
   ]
  },
  {
   "cell_type": "code",
   "execution_count": 34,
   "metadata": {},
   "outputs": [
    {
     "name": "stdout",
     "output_type": "stream",
     "text": [
      "из повторивших туториал после выбора уровня:\n",
      "66.59% из них выбрали бесплатные вопросы\n",
      "19.12% из них совершили покупку\n"
     ]
    }
   ],
   "source": [
    "# сколько их них совершили покупку?\n",
    "set_repeaters = set(a[mask]['user_id_'])\n",
    "repeaters_df = a[a['user_id_'].isin(set_repeaters)].copy()\n",
    "print(\"из повторивших туториал после выбора уровня:\")\n",
    "print(str(round((repeaters_df['min_pack_choice'].count()/1386*100),2))+'% из них выбрали бесплатные вопросы')\n",
    "print(str(round((repeaters_df['min_purchase'].count()/1386*100),2)) + '% из них совершили покупку')"
   ]
  },
  {
   "cell_type": "markdown",
   "metadata": {},
   "source": [
    "## 3. Проверка Гипотезы 3\n",
    "**Гипотеза:**\n",
    "\n",
    "Если пользователь сначала выбирает сложность обучения, будет ли он потом проходить обучение?\n",
    "\n",
    "**Выводы:**\n",
    "\n",
    "Нет, не будет. \n",
    "\n",
    "**Дополнительная информация**\n",
    "\n",
    "7% пользователей прошли обучение повторно после выбора уровня."
   ]
  }
 ],
 "metadata": {
  "interpreter": {
   "hash": "a40eddbcf7cd815c82cc50de481378267fd1a9656c919678016aa9992adbf268"
  },
  "kernelspec": {
   "display_name": "Python 3.10.0 64-bit",
   "language": "python",
   "name": "python3"
  },
  "language_info": {
   "codemirror_mode": {
    "name": "ipython",
    "version": 3
   },
   "file_extension": ".py",
   "mimetype": "text/x-python",
   "name": "python",
   "nbconvert_exporter": "python",
   "pygments_lexer": "ipython3",
   "version": "3.10.0"
  },
  "orig_nbformat": 4
 },
 "nbformat": 4,
 "nbformat_minor": 2
}
